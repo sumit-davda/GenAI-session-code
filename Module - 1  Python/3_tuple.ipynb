{
 "cells": [
  {
   "cell_type": "markdown",
   "id": "f44759d7-de27-4bc6-ba15-91c7294055ef",
   "metadata": {},
   "source": [
    "## tuple\n",
    " - Heter\n",
    " - insertion order preserved\n",
    " - duplicates\n",
    " - immutual\n",
    " - indexing :\n",
    " - positive : starts with 0 and ends with len(lst) - 1 (Left to right)\n",
    " - negative : \n",
    " - slicing :  positive / negative\n",
    " - create empty : (), tuple()\n",
    " - single element : (10,)\n",
    " - multiple elements : (10,20,30)\n",
    " - NOTE : tuple() to convert other seq data to tuple"
   ]
  },
  {
   "cell_type": "code",
   "execution_count": 7,
   "id": "42faf0d3-7b73-4627-8f82-da0d9ca53983",
   "metadata": {},
   "outputs": [
    {
     "name": "stdout",
     "output_type": "stream",
     "text": [
      "() <class 'tuple'>\n",
      "() <class 'tuple'>\n",
      "(1, 2, 3, 4, 5, 6, 7, 8, 9, 10) <class 'tuple'>\n",
      "(4, 5, 6, 7)\n",
      "9\n"
     ]
    }
   ],
   "source": [
    "t1 = ()\n",
    "print(t1,type(t1))\n",
    "\n",
    "t2 = tuple()\n",
    "print(t2,type(t2))\n",
    "\n",
    "t3 = tuple(range(1,11,1))\n",
    "print(t3,type(t3))\n",
    "\n",
    "print(t3[3:7])\n",
    "print(t3[-2])\n",
    "\n",
    "#t3[0] = 100\n",
    "#print(t3)"
   ]
  },
  {
   "cell_type": "code",
   "execution_count": 8,
   "id": "a51a21c5-8248-4e21-9351-3fc39ed48a32",
   "metadata": {},
   "outputs": [
    {
     "name": "stdout",
     "output_type": "stream",
     "text": [
      "count\n",
      "index\n"
     ]
    }
   ],
   "source": [
    "t = ()\n",
    "for name in dir(t):\n",
    "    if '_' not in name:\n",
    "        print(name)"
   ]
  }
 ],
 "metadata": {
  "kernelspec": {
   "display_name": "Python 3 (ipykernel)",
   "language": "python",
   "name": "python3"
  },
  "language_info": {
   "codemirror_mode": {
    "name": "ipython",
    "version": 3
   },
   "file_extension": ".py",
   "mimetype": "text/x-python",
   "name": "python",
   "nbconvert_exporter": "python",
   "pygments_lexer": "ipython3",
   "version": "3.13.0"
  }
 },
 "nbformat": 4,
 "nbformat_minor": 5
}
