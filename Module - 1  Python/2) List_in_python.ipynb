{
 "cells": [
  {
   "cell_type": "markdown",
   "id": "76aed7bc-7566-436c-81ca-7d10bc56d6a3",
   "metadata": {},
   "source": [
    "## Data Structure in Python\n",
    "- List\n",
    "- Tuple\n",
    "- Set\n",
    "- Dict\n"
   ]
  },
  {
   "cell_type": "markdown",
   "id": "b7489cfd-c4b1-42a9-886c-fd8fa5a86960",
   "metadata": {},
   "source": [
    "## Property\n",
    "- Homo / Heter\n",
    "- insertion order preserved\n",
    "- duplicates\n",
    "- mutualbe\n",
    "- indexing\n",
    "- slicing"
   ]
  },
  {
   "cell_type": "markdown",
   "id": "10d208ba-e257-49be-ba79-797244212b45",
   "metadata": {},
   "source": [
    "## List \n",
    " - Heter\n",
    " - insertion order preserved\n",
    " - duplicates\n",
    " - mutual : size, element\n",
    " - indexing :\n",
    " - positive : starts with 0 and ends with len(lst) - 1 (Left to right)\n",
    " - negative : \n",
    " - slicing :  positive / negative\n",
    " - create : [], list()\n",
    " - single element : [10]\n",
    " - multiple elements : [10,20,30]\n",
    " - NOTE : list() to convert other seq data to list"
   ]
  },
  {
   "cell_type": "code",
   "execution_count": 8,
   "id": "5c4833eb-f84f-4768-8926-daa9a15cd68b",
   "metadata": {},
   "outputs": [
    {
     "name": "stdout",
     "output_type": "stream",
     "text": [
      "[] <class 'list'>\n",
      "[] <class 'list'>\n",
      "[10] <class 'list'>\n",
      "[10, 20, 30] <class 'list'>\n",
      "[10, 20, 30, 9.0, 'welcome', 30] <class 'list'>\n",
      "9.0\n",
      "welcome\n"
     ]
    }
   ],
   "source": [
    "lst1 = []\n",
    "print(lst1,type(lst1))\n",
    "\n",
    "lst2 = list()\n",
    "print(lst2,type(lst2))\n",
    "\n",
    "lst3 = [10]\n",
    "print(lst3,type(lst3))\n",
    "\n",
    "lst4 = [10,20,30]\n",
    "print(lst4,type(lst4))\n",
    "\n",
    "lst5 = [10,20,30,9.0,'welcome',30]\n",
    "print(lst5,type(lst5))\n",
    "\n",
    "print(lst5[3])\n",
    "print(lst5[-2])"
   ]
  },
  {
   "cell_type": "code",
   "execution_count": 15,
   "id": "267c27ec-a2e5-468e-933c-4df9650276f7",
   "metadata": {},
   "outputs": [
    {
     "name": "stdout",
     "output_type": "stream",
     "text": [
      "[10, 20, 30, 40, 50]\n",
      "[100, 20, 30, 40, 50]\n",
      "[100, 20, 30, 40, -99]\n",
      "5\n",
      "7\n",
      "[100, 20, 40, -99]\n",
      "4\n"
     ]
    }
   ],
   "source": [
    "lst = [10,20,30,40,50]\n",
    "print(lst)\n",
    "\n",
    "lst[0] = 100\n",
    "print(lst)\n",
    "\n",
    "lst[-1] = -99\n",
    "print(lst)\n",
    "\n",
    "print(len(lst))\n",
    "print(len('welcome'))\n",
    "\n",
    "#lst[5] = 999\n",
    "\n",
    "del lst[2]\n",
    "print(lst)\n",
    "print(len(lst))"
   ]
  },
  {
   "cell_type": "code",
   "execution_count": 20,
   "id": "6060b440-49dc-4fe1-92e8-809ce245b7d3",
   "metadata": {},
   "outputs": [
    {
     "name": "stdout",
     "output_type": "stream",
     "text": [
      "ABCDEF <class 'str'>\n",
      "['A', 'B', 'C', 'D', 'E', 'F'] <class 'list'>\n"
     ]
    }
   ],
   "source": [
    "msg = 'ABCDEF'\n",
    "print(msg,type(msg))\n",
    "lst = list(msg)\n",
    "print(lst,type(lst))\n",
    "\n",
    "#lst1 = list(10) # will throw an error\n",
    "#print(lst1)"
   ]
  },
  {
   "cell_type": "code",
   "execution_count": 27,
   "id": "0572947d-aad9-4609-b62f-ba0631824e2c",
   "metadata": {},
   "outputs": [
    {
     "name": "stdout",
     "output_type": "stream",
     "text": [
      "[10, 20, 30, 40, 50, 60, 70, 80, 90, 100] <class 'list'>\n",
      "[0, 1, 2, 3, 4] <class 'list'>\n",
      "[1, 2, 3, 4] <class 'list'>\n"
     ]
    }
   ],
   "source": [
    "lst = list(range(10,101,10))\n",
    "print(lst,type(lst))\n",
    "\n",
    "lst = list(range(5))\n",
    "print(lst,type(lst))\n",
    "\n",
    "lst = list(range(1,5))\n",
    "print(lst,type(lst))"
   ]
  },
  {
   "cell_type": "code",
   "execution_count": 38,
   "id": "cc766449-1bab-42ba-bd0f-137498c27bac",
   "metadata": {},
   "outputs": [
    {
     "name": "stdout",
     "output_type": "stream",
     "text": [
      "[10, 20, 30, 40, 50, 60, 70, 80, 90, 100]\n",
      "30\n",
      "[20, 30, 40]\n",
      "[10, 20, 30, 40]\n",
      "[50, 60, 70, 80, 90, 100]\n",
      "welcome\n",
      "w\n",
      "E\n",
      "lcome\n"
     ]
    }
   ],
   "source": [
    "lst = list(range(10,101,10))\n",
    "print(lst)\n",
    "print(lst[2])\n",
    "print(lst[1:4])\n",
    "print(lst[:4])\n",
    "print(lst[4:])\n",
    "\n",
    "print(\"welcome\")\n",
    "print(\"welcome\"[0])\n",
    "print(\"welcomE\"[-1])\n",
    "print(\"welcome\"[2:])"
   ]
  },
  {
   "cell_type": "code",
   "execution_count": 47,
   "id": "15a98d4e-b2a0-42cc-950f-986dea9383a1",
   "metadata": {},
   "outputs": [
    {
     "name": "stdout",
     "output_type": "stream",
     "text": [
      "[10, 20, 30, 40, 50, 60, 70, 80, 90, 100]\n",
      "[20, 30, 40, 50, 60]\n",
      "[20, 40, 60]\n",
      "[10, 30, 50]\n",
      "[30, 50, 70, 90]\n",
      "[10, 30, 50, 70, 90]\n",
      "[10, 20, 30, 40, 50, 60, 70, 80, 90, 100]\n"
     ]
    }
   ],
   "source": [
    "lst = list(range(10,101,10))\n",
    "print(lst)\n",
    "print(lst[1:6]) # 6 - 1 => 5\n",
    "print(lst[1:6:2]) #1,3,5\n",
    "print(lst[:6:2])  #0,2,4\n",
    "print(lst[2::2])  #2,4,6,8\n",
    "print(lst[::2])\n",
    "print(lst[::])"
   ]
  },
  {
   "cell_type": "code",
   "execution_count": 56,
   "id": "e663b2be-f9d0-4a06-b1af-d919091e1c4e",
   "metadata": {},
   "outputs": [
    {
     "name": "stdout",
     "output_type": "stream",
     "text": [
      "[10, 20, 30, 40, 50, 60, 70, 80, 90, 100]\n",
      "[]\n",
      "[90, 80]\n",
      "[90, 80, 70, 60, 50, 40, 30, 20, 10]\n",
      "[100, 90, 80, 70, 60, 50, 40, 30, 20, 10]\n",
      "[70, 80]\n",
      "[30, 40, 50, 60]\n",
      "[]\n"
     ]
    }
   ],
   "source": [
    "lst = list(range(10,101,10))\n",
    "print(lst)\n",
    "print(lst[-2:-4])\n",
    "print(lst[-2:-4:-1])\n",
    "print(lst[-2::-1])\n",
    "print(lst[::-1])\n",
    "print(lst[-4:-2])\n",
    "print(lst[2:-4])\n",
    "print(lst[2:-8]) # 2  - 2 = 0"
   ]
  },
  {
   "cell_type": "code",
   "execution_count": 60,
   "id": "3d36451b-3f91-4023-a79b-b4430a28628b",
   "metadata": {},
   "outputs": [
    {
     "name": "stdout",
     "output_type": "stream",
     "text": [
      "['__add__', '__class__', '__class_getitem__', '__contains__', '__delattr__', '__delitem__', '__dir__', '__doc__', '__eq__', '__format__', '__ge__', '__getattribute__', '__getitem__', '__getstate__', '__gt__', '__hash__', '__iadd__', '__imul__', '__init__', '__init_subclass__', '__iter__', '__le__', '__len__', '__lt__', '__mul__', '__ne__', '__new__', '__reduce__', '__reduce_ex__', '__repr__', '__reversed__', '__rmul__', '__setattr__', '__setitem__', '__sizeof__', '__str__', '__subclasshook__', 'append', 'clear', 'copy', 'count', 'extend', 'index', 'insert', 'pop', 'remove', 'reverse', 'sort']\n",
      "*********************************************\n",
      "['__add__', '__class__', '__contains__', '__delattr__', '__dir__', '__doc__', '__eq__', '__format__', '__ge__', '__getattribute__', '__getitem__', '__getnewargs__', '__getstate__', '__gt__', '__hash__', '__init__', '__init_subclass__', '__iter__', '__le__', '__len__', '__lt__', '__mod__', '__mul__', '__ne__', '__new__', '__reduce__', '__reduce_ex__', '__repr__', '__rmod__', '__rmul__', '__setattr__', '__sizeof__', '__str__', '__subclasshook__', 'capitalize', 'casefold', 'center', 'count', 'encode', 'endswith', 'expandtabs', 'find', 'format', 'format_map', 'index', 'isalnum', 'isalpha', 'isascii', 'isdecimal', 'isdigit', 'isidentifier', 'islower', 'isnumeric', 'isprintable', 'isspace', 'istitle', 'isupper', 'join', 'ljust', 'lower', 'lstrip', 'maketrans', 'partition', 'removeprefix', 'removesuffix', 'replace', 'rfind', 'rindex', 'rjust', 'rpartition', 'rsplit', 'rstrip', 'split', 'splitlines', 'startswith', 'strip', 'swapcase', 'title', 'translate', 'upper', 'zfill']\n"
     ]
    }
   ],
   "source": [
    "lst = []\n",
    "print(dir(lst))\n",
    "print(\"*********************************************\")\n",
    "print(dir('hi'))"
   ]
  },
  {
   "cell_type": "code",
   "execution_count": 71,
   "id": "3cdfc51b-51e8-4adb-9d2f-d78f756e84f5",
   "metadata": {},
   "outputs": [
    {
     "name": "stdout",
     "output_type": "stream",
     "text": [
      "append\n",
      "clear\n",
      "copy\n",
      "count\n",
      "extend\n",
      "index\n",
      "insert\n",
      "pop\n",
      "remove\n",
      "reverse\n",
      "sort\n"
     ]
    }
   ],
   "source": [
    "lst = []\n",
    "for name in dir(lst):\n",
    "    if '_' not in name:\n",
    "        print(name)"
   ]
  },
  {
   "cell_type": "code",
   "execution_count": 73,
   "id": "5f20ab44-9085-4cfb-aca9-b185d5fb1fb1",
   "metadata": {},
   "outputs": [
    {
     "name": "stdout",
     "output_type": "stream",
     "text": [
      "Help on built-in function append:\n",
      "\n",
      "append(object, /) method of builtins.list instance\n",
      "    Append object to the end of the list.\n",
      "\n"
     ]
    }
   ],
   "source": [
    "help(lst.append)"
   ]
  },
  {
   "cell_type": "code",
   "execution_count": 75,
   "id": "a382903d-f4c1-4cff-bd09-435ef4444679",
   "metadata": {},
   "outputs": [
    {
     "name": "stdout",
     "output_type": "stream",
     "text": [
      "[1, 2, 3, 4, 5]\n",
      "[1, 2, 3, 4, 5, 100]\n"
     ]
    }
   ],
   "source": [
    "lst = list(range(1,6))\n",
    "print(lst)\n",
    "lst.append(100)\n",
    "print(lst)"
   ]
  },
  {
   "cell_type": "code",
   "execution_count": 77,
   "id": "b8eaf6a5-d02e-48ba-911c-ace87652e003",
   "metadata": {},
   "outputs": [
    {
     "name": "stdout",
     "output_type": "stream",
     "text": [
      "Help on built-in function insert:\n",
      "\n",
      "insert(index, object, /) method of builtins.list instance\n",
      "    Insert object before index.\n",
      "\n"
     ]
    }
   ],
   "source": [
    "help(lst.insert)"
   ]
  },
  {
   "cell_type": "code",
   "execution_count": 78,
   "id": "d4e31b2e-ada7-44e1-9ae0-dc1974ac6fbc",
   "metadata": {},
   "outputs": [
    {
     "name": "stdout",
     "output_type": "stream",
     "text": [
      "[1, 2, 3, 4, 5]\n",
      "[1, 2, 'welcome', 3, 4, 5]\n"
     ]
    }
   ],
   "source": [
    "lst = list(range(1,6))\n",
    "print(lst)\n",
    "lst.insert(2,'welcome')\n",
    "print(lst)"
   ]
  },
  {
   "cell_type": "code",
   "execution_count": 65,
   "id": "48b4ca97-6679-4121-9749-61cb84e518cf",
   "metadata": {},
   "outputs": [
    {
     "name": "stdout",
     "output_type": "stream",
     "text": [
      "<class 'int'>\n",
      "<class 'list'>\n"
     ]
    }
   ],
   "source": [
    "print(type(10))\n",
    "print(type([]))"
   ]
  },
  {
   "cell_type": "code",
   "execution_count": 70,
   "id": "fc422e4e-54bc-4a3c-8a5e-e367d0ae80ca",
   "metadata": {},
   "outputs": [
    {
     "name": "stdout",
     "output_type": "stream",
     "text": [
      "30\n",
      "30\n",
      "[1, 2, 3, 10, 20]\n",
      "[1, 2, 3, 10, 20]\n"
     ]
    }
   ],
   "source": [
    "print(10 + 20)\n",
    "x = 10\n",
    "print(x.__add__(20))\n",
    "print([1,2,3] + [10,20])\n",
    "print([1,2,3].__add__([10,20]))"
   ]
  }
 ],
 "metadata": {
  "kernelspec": {
   "display_name": "Python 3 (ipykernel)",
   "language": "python",
   "name": "python3"
  },
  "language_info": {
   "codemirror_mode": {
    "name": "ipython",
    "version": 3
   },
   "file_extension": ".py",
   "mimetype": "text/x-python",
   "name": "python",
   "nbconvert_exporter": "python",
   "pygments_lexer": "ipython3",
   "version": "3.13.0"
  }
 },
 "nbformat": 4,
 "nbformat_minor": 5
}
