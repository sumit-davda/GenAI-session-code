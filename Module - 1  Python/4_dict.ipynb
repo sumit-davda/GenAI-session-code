{
 "cells": [
  {
   "cell_type": "code",
   "execution_count": null,
   "id": "1c467bcf-c73e-400b-a3b9-fb5db19918b9",
   "metadata": {},
   "outputs": [],
   "source": [
    "Homo / Heter\n",
    "insertion order preserved\n",
    "duplicates\n",
    "mutualbe\n",
    "indexing\n",
    "slicing"
   ]
  },
  {
   "cell_type": "markdown",
   "id": "2cab84fc-299d-47c0-affb-5a78771e6dd8",
   "metadata": {},
   "source": [
    "## Dict\n",
    " - group of elements in key,value pair format\n",
    " - key / value : heter\n",
    " - insertion order preserved\n",
    " - duplication in value : supports\n",
    " - duplication in key : does not support\n",
    " - mutuable\n",
    " - create empty dict : {}, dict()\n",
    " - with single element : {'key':'value'}"
   ]
  },
  {
   "cell_type": "code",
   "execution_count": 6,
   "id": "92e05a2a-81bc-4981-9c4b-def44dd24471",
   "metadata": {},
   "outputs": [
    {
     "name": "stdout",
     "output_type": "stream",
     "text": [
      "{} <class 'dict'>\n",
      "{} <class 'dict'>\n",
      "{'first': 10} <class 'dict'>\n",
      "{'first': 10, 'sec': 20, 'third': 30} <class 'dict'>\n",
      "{'first': 10, 20: 'sec'} <class 'dict'>\n"
     ]
    }
   ],
   "source": [
    "d = {}\n",
    "print(d,type(d))\n",
    "\n",
    "d = dict()\n",
    "print(d,type(d))\n",
    "\n",
    "d = {'first':10}\n",
    "print(d,type(d))\n",
    "\n",
    "d = {'first':10,'sec':20,'third':30}\n",
    "print(d,type(d))\n",
    "\n",
    "d = {'first':10,20:'sec'}\n",
    "print(d,type(d))"
   ]
  },
  {
   "cell_type": "code",
   "execution_count": 12,
   "id": "a2e07fd3-adb9-4394-b8d8-3f9286d2ec12",
   "metadata": {},
   "outputs": [
    {
     "name": "stdout",
     "output_type": "stream",
     "text": [
      "{'first': 10, 'sec': 20, 'third': 10} <class 'dict'>\n",
      "{'a': 100, 'b': 20} <class 'dict'>\n",
      "{'a': 99, 'b': 20}\n",
      "{'a': 99, 'b': 20, 'x': -999}\n"
     ]
    }
   ],
   "source": [
    "d = {'first':10, 'sec': 20, 'third':10}\n",
    "print(d,type(d))\n",
    "\n",
    "d = {'a':10, 'b': 20, 'a':100}\n",
    "print(d,type(d))\n",
    "\n",
    "d['a'] = 99\n",
    "print(d)\n",
    "\n",
    "d['x'] = -999\n",
    "print(d)"
   ]
  },
  {
   "cell_type": "code",
   "execution_count": 18,
   "id": "e9d6f791-fc2c-4ec2-a2b3-313aa0c77dfb",
   "metadata": {},
   "outputs": [
    {
     "name": "stdout",
     "output_type": "stream",
     "text": [
      "clear\n",
      "copy\n",
      "fromkeys\n",
      "get\n",
      "items\n",
      "keys\n",
      "pop\n",
      "popitem\n",
      "setdefault\n",
      "update\n",
      "values\n",
      "dict_keys(['a', 'b', 'x'])\n",
      "dict_values([99, 20, -999])\n",
      "dict_items([('a', 99), ('b', 20), ('x', -999)])\n",
      "Help on built-in function get:\n",
      "\n",
      "get(key, default=None, /) method of builtins.dict instance\n",
      "    Return the value for key if key is in the dictionary, else default.\n",
      "\n"
     ]
    }
   ],
   "source": [
    "for name in dir(dict()):\n",
    "    if '_' not in name:\n",
    "        print(name)\n",
    "\n",
    "print(d.keys())\n",
    "print(d.values())\n",
    "print(d.items())\n",
    "\n",
    "help(d.get)\n",
    "\n",
    "#shift + tab"
   ]
  },
  {
   "cell_type": "code",
   "execution_count": 20,
   "id": "0f63b808-06db-4116-a80d-149cff1643f2",
   "metadata": {},
   "outputs": [
    {
     "name": "stdout",
     "output_type": "stream",
     "text": [
      "dict_keys(['a', 'b', 'x'])\n",
      "<class 'dict_keys'>\n",
      "['a', 'b', 'x']\n",
      "<class 'list'>\n"
     ]
    }
   ],
   "source": [
    "data = d.keys()\n",
    "\n",
    "print(data)\n",
    "print(type(data))\n",
    "\n",
    "lst_data = list(data)\n",
    "print(lst_data)\n",
    "print(type(lst_data))"
   ]
  }
 ],
 "metadata": {
  "kernelspec": {
   "display_name": "Python 3 (ipykernel)",
   "language": "python",
   "name": "python3"
  },
  "language_info": {
   "codemirror_mode": {
    "name": "ipython",
    "version": 3
   },
   "file_extension": ".py",
   "mimetype": "text/x-python",
   "name": "python",
   "nbconvert_exporter": "python",
   "pygments_lexer": "ipython3",
   "version": "3.13.0"
  }
 },
 "nbformat": 4,
 "nbformat_minor": 5
}
