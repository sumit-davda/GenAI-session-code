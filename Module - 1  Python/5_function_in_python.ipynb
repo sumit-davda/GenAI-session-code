{
 "cells": [
  {
   "cell_type": "raw",
   "id": "0672ff0f-1bc1-4c0e-b9da-c494a8d84c86",
   "metadata": {},
   "source": [
    "********\n",
    "Hi\n",
    "********\n",
    "Hello\n",
    "********\n",
    "welcome\n",
    "********\n",
    "Bye\n",
    "********"
   ]
  },
  {
   "cell_type": "code",
   "execution_count": 5,
   "id": "fc1fd7c2-1241-4ce6-aebb-5901878e2b23",
   "metadata": {},
   "outputs": [
    {
     "name": "stdout",
     "output_type": "stream",
     "text": [
      "****************************************\n",
      "hi\n",
      "****************************************\n",
      "Hello\n",
      "****************************************\n",
      "welcome\n",
      "****************************************\n",
      "Bye\n",
      "****************************************"
     ]
    }
   ],
   "source": [
    "for i in range(40):\n",
    "    print(\"*\",end=\"\")\n",
    "print(\"\\nhi\")\n",
    "for i in range(40):\n",
    "    print(\"*\",end=\"\")\n",
    "print(\"\\nHello\")\n",
    "for i in range(40):\n",
    "    print(\"*\",end=\"\")\n",
    "print(\"\\nwelcome\")\n",
    "for i in range(40):\n",
    "    print(\"*\",end=\"\")\n",
    "print(\"\\nBye\")\n",
    "for i in range(40):\n",
    "    print(\"*\",end=\"\")\n",
    "\n"
   ]
  },
  {
   "cell_type": "code",
   "execution_count": 10,
   "id": "0e05112c-5e94-42c5-b7a5-c5a306c06d2e",
   "metadata": {},
   "outputs": [
    {
     "name": "stdout",
     "output_type": "stream",
     "text": [
      "$$$$$$$$$$$$$$$$$$$$$$$$$$$$$$\n",
      "hi\n",
      "$$$$$$$$$$$$$$$$$$$$$$$$$$$$$$\n",
      "Hello\n",
      "$$$$$$$$$$$$$$$$$$$$$$$$$$$$$$\n",
      "welcome\n",
      "$$$$$$$$$$$$$$$$$$$$$$$$$$$$$$\n",
      "Bye\n",
      "$$$$$$$$$$$$$$$$$$$$$$$$$$$$$$"
     ]
    }
   ],
   "source": [
    "# function : group of code to perform a specific task\n",
    "#definition of the function\n",
    "def line():\n",
    "    for i in range(30):\n",
    "        print(\"$\",end=\"\")\n",
    "\n",
    "line() # calling statement\n",
    "print(\"\\nhi\")\n",
    "line() # calling statement\n",
    "print(\"\\nHello\")\n",
    "line()\n",
    "print(\"\\nwelcome\")\n",
    "line()\n",
    "print(\"\\nBye\")\n",
    "line()\n"
   ]
  },
  {
   "cell_type": "code",
   "execution_count": 16,
   "id": "0296e4e8-8e5a-4401-8289-bebb7e95b223",
   "metadata": {},
   "outputs": [
    {
     "name": "stdout",
     "output_type": "stream",
     "text": [
      "$$$$$$$$$$$$$$$$$$$$$$$$$$$$$$\n",
      "&&&&&&&&&&&&&&&&&&&&&&&&&&&&&&\n",
      "..............................\n"
     ]
    }
   ],
   "source": [
    "# function : group of code to perform a specific task\n",
    "#definition of the function\n",
    "def line_1(ch):\n",
    "    for i in range(30):\n",
    "        print(ch,end=\"\")\n",
    "    print()\n",
    "    \n",
    "line_1('$') # calling statement\n",
    "line_1('&')\n",
    "line_1('.')"
   ]
  },
  {
   "cell_type": "code",
   "execution_count": 22,
   "id": "c157a4ca-964e-4ff0-9e19-58fe7f8701c0",
   "metadata": {},
   "outputs": [
    {
     "name": "stdout",
     "output_type": "stream",
     "text": [
      "$$$$$$$$$$$$$$$$$$$$$$$$$$$$$$\n",
      "&&&&&&&&&&\n",
      "..\n",
      "AAAAAAAAAAAAAAAAAAAAAAAAAAAAAA\n"
     ]
    }
   ],
   "source": [
    "# function : group of code to perform a specific task\n",
    "#definition of the function\n",
    "def line_1(ch,n):\n",
    "    for i in range(n):\n",
    "        print(ch,end=\"\")\n",
    "    print()\n",
    "    \n",
    "line_1('$',30) # positional argument\n",
    "line_1('&',10)\n",
    "line_1('.',2)\n",
    "line_1(n=30,ch='A') # keyword argument\n"
   ]
  },
  {
   "cell_type": "code",
   "execution_count": 27,
   "id": "d8ded31a-0192-453d-8c04-009a075a1a4d",
   "metadata": {},
   "outputs": [
    {
     "name": "stdout",
     "output_type": "stream",
     "text": [
      "%%\n",
      "**********\n",
      "________\n"
     ]
    }
   ],
   "source": [
    "# function : group of code to perform a specific task\n",
    "#definition of the function\n",
    "def line_2(ch,n=10): # default argument\n",
    "    for i in range(n):\n",
    "        print(ch,end=\"\")\n",
    "    print()\n",
    "\n",
    "line_2('%',2) # positional argument\n",
    "line_2('*') # positional argument\n",
    "line_2(n=8,ch='_') # keyword argument\n",
    "# line_2(n=20) "
   ]
  },
  {
   "cell_type": "code",
   "execution_count": 32,
   "id": "dec3e848-8b82-4924-9dd4-3c6c3fa1a718",
   "metadata": {},
   "outputs": [
    {
     "name": "stdout",
     "output_type": "stream",
     "text": [
      "(10,) <class 'tuple'>\n",
      "(10, 20) <class 'tuple'>\n",
      "() <class 'tuple'>\n"
     ]
    }
   ],
   "source": [
    "def line_3(*args): # variable length argument : 0 to n args\n",
    "    print(args,type(args))\n",
    "\n",
    "line_3(10)\n",
    "line_3(10,20) # at the time of calling python will convert all the arguments into a tuple\n",
    "line_3()\n",
    "#line_3(args=90)"
   ]
  },
  {
   "cell_type": "code",
   "execution_count": 35,
   "id": "031aa42e-1334-4874-bb5f-680eee38d77f",
   "metadata": {},
   "outputs": [
    {
     "name": "stdout",
     "output_type": "stream",
     "text": [
      "{'age': 25} <class 'dict'>\n",
      "{'name': 'AAA', 'age': 25} <class 'dict'>\n",
      "{} <class 'dict'>\n"
     ]
    }
   ],
   "source": [
    "def line_4(**args): # keyword variable length argument : 0 to n args\n",
    "    print(args,type(args))\n",
    "\n",
    "line_4(age=25)\n",
    "line_4(name='AAA',age=25) # at the time of calling python will convert all the arguments into a dict\n",
    "line_4()"
   ]
  },
  {
   "cell_type": "code",
   "execution_count": 40,
   "id": "b90057b9-4a49-4c4e-96eb-163feea38023",
   "metadata": {},
   "outputs": [
    {
     "name": "stdout",
     "output_type": "stream",
     "text": [
      "1 2\n"
     ]
    }
   ],
   "source": [
    "def line_5(a,b,/):\n",
    "    print(a,b)\n",
    "\n",
    "line_5(1,2) # positional only arg\n",
    "#line_5(b=20,a=10) # keyword arg"
   ]
  },
  {
   "cell_type": "code",
   "execution_count": 42,
   "id": "87a09a0a-11b7-493f-8c17-61da92bf4edb",
   "metadata": {},
   "outputs": [
    {
     "name": "stdout",
     "output_type": "stream",
     "text": [
      "10 20\n"
     ]
    }
   ],
   "source": [
    "def line_6(*,a,b):\n",
    "    print(a,b)\n",
    "\n",
    "#line_6(1,2) # positional only arg\n",
    "line_6(b=20,a=10) # keyword only arg"
   ]
  }
 ],
 "metadata": {
  "kernelspec": {
   "display_name": "Python 3 (ipykernel)",
   "language": "python",
   "name": "python3"
  },
  "language_info": {
   "codemirror_mode": {
    "name": "ipython",
    "version": 3
   },
   "file_extension": ".py",
   "mimetype": "text/x-python",
   "name": "python",
   "nbconvert_exporter": "python",
   "pygments_lexer": "ipython3",
   "version": "3.13.0"
  }
 },
 "nbformat": 4,
 "nbformat_minor": 5
}
