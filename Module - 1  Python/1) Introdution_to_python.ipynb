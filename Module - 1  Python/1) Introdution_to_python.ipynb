{
 "cells": [
  {
   "cell_type": "code",
   "execution_count": 1,
   "id": "e5ea7e06-b046-4d32-a945-49f3659f9b16",
   "metadata": {},
   "outputs": [
    {
     "name": "stdout",
     "output_type": "stream",
     "text": [
      "Welcome to Python Programming\n"
     ]
    }
   ],
   "source": [
    "print(\"Welcome to Python Programming\")"
   ]
  },
  {
   "cell_type": "code",
   "execution_count": 2,
   "id": "9da24e48-d8d1-4938-a69d-8138d6a4f726",
   "metadata": {},
   "outputs": [
    {
     "name": "stdout",
     "output_type": "stream",
     "text": [
      "hi\n",
      "hello\n"
     ]
    }
   ],
   "source": [
    "print(\"hi\")\n",
    "print(\"hello\")"
   ]
  },
  {
   "cell_type": "code",
   "execution_count": 3,
   "id": "06c4cc80-e6fb-481e-a50d-1b7e601f6c2a",
   "metadata": {},
   "outputs": [
    {
     "name": "stdout",
     "output_type": "stream",
     "text": [
      "Help on built-in function print in module builtins:\n",
      "\n",
      "print(*args, sep=' ', end='\\n', file=None, flush=False)\n",
      "    Prints the values to a stream, or to sys.stdout by default.\n",
      "\n",
      "    sep\n",
      "      string inserted between values, default a space.\n",
      "    end\n",
      "      string appended after the last value, default a newline.\n",
      "    file\n",
      "      a file-like object (stream); defaults to the current sys.stdout.\n",
      "    flush\n",
      "      whether to forcibly flush the stream.\n",
      "\n"
     ]
    }
   ],
   "source": [
    "help(print)"
   ]
  },
  {
   "cell_type": "code",
   "execution_count": 5,
   "id": "244931c4-f73c-4274-9157-4420563a4672",
   "metadata": {},
   "outputs": [
    {
     "name": "stdout",
     "output_type": "stream",
     "text": [
      "hi,hello\n"
     ]
    }
   ],
   "source": [
    "print(\"hi\",end=',')\n",
    "print(\"hello\")"
   ]
  },
  {
   "cell_type": "code",
   "execution_count": 8,
   "id": "b6e19807-a243-42af-acb5-86a3e90e2cc8",
   "metadata": {},
   "outputs": [
    {
     "name": "stdout",
     "output_type": "stream",
     "text": [
      "Message1?Message2?Message3\n"
     ]
    }
   ],
   "source": [
    "print(\"Message1\",\"Message2\",\"Message3\",sep=\"?\")"
   ]
  },
  {
   "cell_type": "code",
   "execution_count": 9,
   "id": "b347c586-f4a5-4902-af46-24af034f4ed8",
   "metadata": {},
   "outputs": [
    {
     "name": "stdout",
     "output_type": "stream",
     "text": [
      "Message1?Message2?Message3?"
     ]
    }
   ],
   "source": [
    "print(\"Message1\",\"Message2\",\"Message3\",sep=\"?\",end=\"?\")"
   ]
  },
  {
   "cell_type": "markdown",
   "id": "6753d6ba-6e7a-4be2-9aae-2f325e8b50ff",
   "metadata": {},
   "source": [
    "## Variables : container\n",
    "Python is a dynamic type of Prgramming Language"
   ]
  },
  {
   "cell_type": "code",
   "execution_count": 12,
   "id": "350690c5-9eb7-4669-93fd-11d1671f18a6",
   "metadata": {},
   "outputs": [
    {
     "name": "stdout",
     "output_type": "stream",
     "text": [
      "welcome\n",
      "<class 'str'>\n"
     ]
    }
   ],
   "source": [
    "#var1 = 10\n",
    "var1 = 1.1\n",
    "var1 = 'welcome'\n",
    "print(var1)\n",
    "print(type(var1))"
   ]
  },
  {
   "cell_type": "code",
   "execution_count": 14,
   "id": "bff137ea-b643-40b2-93de-fec37099cf7d",
   "metadata": {},
   "outputs": [
    {
     "name": "stdout",
     "output_type": "stream",
     "text": [
      "30\n",
      "Addition is : 30\n"
     ]
    }
   ],
   "source": [
    "a = 10\n",
    "b = 20\n",
    "c = a + b\n",
    "print(c)\n",
    "print(\"Addition is :\",c)"
   ]
  },
  {
   "cell_type": "markdown",
   "id": "1ea0f022-f097-4c61-ad57-c3fb646f9a41",
   "metadata": {},
   "source": [
    "## input function"
   ]
  },
  {
   "cell_type": "code",
   "execution_count": 16,
   "id": "5ab236b0-86be-47f5-b307-6d96f2796052",
   "metadata": {},
   "outputs": [
    {
     "name": "stdout",
     "output_type": "stream",
     "text": [
      "Help on method raw_input in module ipykernel.kernelbase:\n",
      "\n",
      "raw_input(prompt='') method of ipykernel.ipkernel.IPythonKernel instance\n",
      "    Forward raw_input to frontends\n",
      "\n",
      "    Raises\n",
      "    ------\n",
      "    StdinNotImplementedError if active frontend doesn't support stdin.\n",
      "\n"
     ]
    }
   ],
   "source": [
    "help(input)"
   ]
  },
  {
   "cell_type": "code",
   "execution_count": 22,
   "id": "a861095e-eaad-4026-886d-802692362bf7",
   "metadata": {},
   "outputs": [
    {
     "name": "stdin",
     "output_type": "stream",
     "text": [
      "Enter a number :  100\n"
     ]
    },
    {
     "name": "stdout",
     "output_type": "stream",
     "text": [
      "100\n",
      "<class 'str'>\n"
     ]
    }
   ],
   "source": [
    "x = input(\"Enter a number : \") # read the data from console and return a string only \n",
    "print(x)\n",
    "print(type(x))"
   ]
  },
  {
   "cell_type": "code",
   "execution_count": 26,
   "id": "f7a178d1-16ae-4927-9176-300017e6b4bf",
   "metadata": {},
   "outputs": [
    {
     "name": "stdin",
     "output_type": "stream",
     "text": [
      "Enter first number :  1.5\n",
      "Enter second number :  20\n"
     ]
    },
    {
     "name": "stdout",
     "output_type": "stream",
     "text": [
      "21.5\n"
     ]
    }
   ],
   "source": [
    "#int() : use to convert data into int type\n",
    "a = float(input(\"Enter first number : \"))\n",
    "b = float(input(\"Enter second number : \"))\n",
    "c = a + b\n",
    "print(c)"
   ]
  },
  {
   "cell_type": "code",
   "execution_count": 30,
   "id": "e6abc63a-09ef-4522-b9ff-fe2acf0c5cac",
   "metadata": {},
   "outputs": [
    {
     "name": "stdout",
     "output_type": "stream",
     "text": [
      "<class 'str'>\n",
      "<class 'str'>\n",
      "10020\n",
      "120\n",
      "120\n"
     ]
    }
   ],
   "source": [
    "a = '100'\n",
    "b = '20'\n",
    "print(type(a))\n",
    "print(type(b))\n",
    "print(a+b)\n",
    "x = int(a)\n",
    "y = int(b)\n",
    "print(x + y)\n",
    "print(int(a) + int(b))"
   ]
  },
  {
   "cell_type": "markdown",
   "id": "b7fb3bed-7708-483d-821b-db6b88ddb335",
   "metadata": {},
   "source": [
    "# Conditional statments\n",
    "1) simple If : use to check a single condition\n",
    "2) If else   : two opposite conditions\n",
    "3) if elif else : multiple conditions , fasle\n",
    "4) nested if  : multiple conditions , true"
   ]
  },
  {
   "cell_type": "code",
   "execution_count": 33,
   "id": "0ba98c16-6133-4684-a45d-6ac68cef0803",
   "metadata": {},
   "outputs": [
    {
     "name": "stdin",
     "output_type": "stream",
     "text": [
      "Enter a number  -90\n"
     ]
    }
   ],
   "source": [
    "# WAP to check a given number is +ve or -ve\n",
    "num = int(input(\"Enter a number \"))\n",
    "\n",
    "if num > 0 :\n",
    "    print(\"number is positive\")\n",
    "    print(\"Have a nice day\")"
   ]
  },
  {
   "cell_type": "code",
   "execution_count": 38,
   "id": "a744bd3c-8ff8-4a7a-8216-629b1b8bfce4",
   "metadata": {},
   "outputs": [
    {
     "name": "stdin",
     "output_type": "stream",
     "text": [
      "Enter a number :  0\n"
     ]
    },
    {
     "name": "stdout",
     "output_type": "stream",
     "text": [
      "number is negative\n",
      "Have a nice day\n"
     ]
    }
   ],
   "source": [
    "# WAP to check a given number is +ve or -ve\n",
    "num = int(input(\"Enter a number : \"))\n",
    "\n",
    "if num > 0 :\n",
    "    print(\"number is positive\")\n",
    "else:\n",
    "    print(\"number is negative\")\n",
    "print(\"Have a nice day\")"
   ]
  },
  {
   "cell_type": "code",
   "execution_count": 42,
   "id": "990ceb59-ee8a-4af5-a34c-ef763bc47a94",
   "metadata": {},
   "outputs": [
    {
     "name": "stdin",
     "output_type": "stream",
     "text": [
      "Enter a number :  0\n"
     ]
    },
    {
     "name": "stdout",
     "output_type": "stream",
     "text": [
      "zero\n",
      "Have a nice day\n"
     ]
    }
   ],
   "source": [
    "num = int(input(\"Enter a number : \"))\n",
    "\n",
    "if num > 0 :\n",
    "    print(\"number is positive\")\n",
    "elif num < 0:\n",
    "    print(\"number is negative\")\n",
    "else:\n",
    "    print(\"zero\")\n",
    "print(\"Have a nice day\")"
   ]
  },
  {
   "cell_type": "markdown",
   "id": "3902e559-7a89-4395-9381-7a3d6f298d16",
   "metadata": {},
   "source": [
    "# Looping statements\n",
    "1) for loop\n",
    "2) while loop"
   ]
  },
  {
   "cell_type": "code",
   "execution_count": 45,
   "id": "f7bf49ac-12dc-4d46-b4c2-87cf8d2bddda",
   "metadata": {},
   "outputs": [
    {
     "name": "stdout",
     "output_type": "stream",
     "text": [
      "A\n",
      "B\n",
      "C\n",
      "D\n",
      "P y t h o n "
     ]
    }
   ],
   "source": [
    "msg = \"ABCD\"\n",
    "for ch in msg:\n",
    "    print(ch)\n",
    "for ch in \"Python\":\n",
    "    print(ch,end=\" \")"
   ]
  }
 ],
 "metadata": {
  "kernelspec": {
   "display_name": "Python 3 (ipykernel)",
   "language": "python",
   "name": "python3"
  },
  "language_info": {
   "codemirror_mode": {
    "name": "ipython",
    "version": 3
   },
   "file_extension": ".py",
   "mimetype": "text/x-python",
   "name": "python",
   "nbconvert_exporter": "python",
   "pygments_lexer": "ipython3",
   "version": "3.13.0"
  }
 },
 "nbformat": 4,
 "nbformat_minor": 5
}
