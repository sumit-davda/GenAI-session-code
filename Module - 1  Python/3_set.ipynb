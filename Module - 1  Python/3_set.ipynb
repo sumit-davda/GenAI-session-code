{
 "cells": [
  {
   "cell_type": "markdown",
   "id": "7cdd9ec7-a7bc-4c6d-968b-4fad5510d38f",
   "metadata": {},
   "source": [
    "## set\n",
    " - Heter\n",
    " - insertion order does not preserved\n",
    " - not allowed : duplicate\n",
    " - mutual\n",
    " - does not support indexing\n",
    " - does not support slicing\n",
    " - create empty : set()\n",
    " - single element : {10}\n",
    " - multiple elements : {10,20,30}\n",
    " - NOTE : set() to convert other seq data to set"
   ]
  },
  {
   "cell_type": "code",
   "execution_count": 2,
   "id": "1ad0574a-da82-4166-ba2c-74d5995a0ee4",
   "metadata": {},
   "outputs": [
    {
     "name": "stdout",
     "output_type": "stream",
     "text": [
      "set() <class 'set'>\n"
     ]
    }
   ],
   "source": [
    "s1 = set()\n",
    "print(s1,type(s1))"
   ]
  },
  {
   "cell_type": "code",
   "execution_count": 3,
   "id": "123d1da7-1edb-4320-826c-9a22ce7805bf",
   "metadata": {},
   "outputs": [
    {
     "name": "stdout",
     "output_type": "stream",
     "text": [
      "{10000, 20, 1000, 10, 30}\n"
     ]
    }
   ],
   "source": [
    "s2 = {10,20,30,10,1000,10000}\n",
    "print(s2)"
   ]
  },
  {
   "cell_type": "code",
   "execution_count": 4,
   "id": "292416df-6d3b-41e1-b185-259644fc6326",
   "metadata": {},
   "outputs": [
    {
     "name": "stdout",
     "output_type": "stream",
     "text": [
      "add\n",
      "clear\n",
      "copy\n",
      "difference\n",
      "discard\n",
      "intersection\n",
      "isdisjoint\n",
      "issubset\n",
      "issuperset\n",
      "pop\n",
      "remove\n",
      "union\n",
      "update\n"
     ]
    }
   ],
   "source": [
    "t = set()\n",
    "for name in dir(t):\n",
    "    if '_' not in name:\n",
    "        print(name)"
   ]
  },
  {
   "cell_type": "code",
   "execution_count": null,
   "id": "0cd83bfd-2b45-4adb-a1f2-1e6f225a9d04",
   "metadata": {},
   "outputs": [],
   "source": []
  },
  {
   "cell_type": "code",
   "execution_count": null,
   "id": "52b72edb-5719-49ce-a10f-79f44331602b",
   "metadata": {},
   "outputs": [],
   "source": []
  }
 ],
 "metadata": {
  "kernelspec": {
   "display_name": "Python 3 (ipykernel)",
   "language": "python",
   "name": "python3"
  },
  "language_info": {
   "codemirror_mode": {
    "name": "ipython",
    "version": 3
   },
   "file_extension": ".py",
   "mimetype": "text/x-python",
   "name": "python",
   "nbconvert_exporter": "python",
   "pygments_lexer": "ipython3",
   "version": "3.13.0"
  }
 },
 "nbformat": 4,
 "nbformat_minor": 5
}
