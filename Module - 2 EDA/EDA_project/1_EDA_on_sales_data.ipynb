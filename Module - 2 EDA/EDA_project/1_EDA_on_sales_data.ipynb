{
 "cells": [
  {
   "cell_type": "code",
   "execution_count": 18,
   "id": "60b8b878-1aed-4afb-97d4-b26db4aba83b",
   "metadata": {},
   "outputs": [],
   "source": [
    "import pandas as pd\n",
    "import numpy as np"
   ]
  },
  {
   "cell_type": "code",
   "execution_count": 20,
   "id": "e63cc8e6-c327-47d8-84fc-7e27dc17628c",
   "metadata": {},
   "outputs": [],
   "source": [
    "#help(pd.read_csv)"
   ]
  },
  {
   "cell_type": "code",
   "execution_count": 3,
   "id": "67017d2b-709a-48e7-b086-9bb9521ffe61",
   "metadata": {},
   "outputs": [
    {
     "data": {
      "text/html": [
       "<div>\n",
       "<style scoped>\n",
       "    .dataframe tbody tr th:only-of-type {\n",
       "        vertical-align: middle;\n",
       "    }\n",
       "\n",
       "    .dataframe tbody tr th {\n",
       "        vertical-align: top;\n",
       "    }\n",
       "\n",
       "    .dataframe thead th {\n",
       "        text-align: right;\n",
       "    }\n",
       "</style>\n",
       "<table border=\"1\" class=\"dataframe\">\n",
       "  <thead>\n",
       "    <tr style=\"text-align: right;\">\n",
       "      <th></th>\n",
       "      <th>OrderID</th>\n",
       "      <th>Product</th>\n",
       "      <th>Category</th>\n",
       "      <th>Region</th>\n",
       "      <th>Quantity</th>\n",
       "      <th>PricePerUnit</th>\n",
       "      <th>TotalSales</th>\n",
       "      <th>Date</th>\n",
       "    </tr>\n",
       "  </thead>\n",
       "  <tbody>\n",
       "    <tr>\n",
       "      <th>0</th>\n",
       "      <td>1</td>\n",
       "      <td>Laptop</td>\n",
       "      <td>Electronics</td>\n",
       "      <td>North America</td>\n",
       "      <td>5.0</td>\n",
       "      <td>800.0</td>\n",
       "      <td>4000.0</td>\n",
       "      <td>10-01-2023</td>\n",
       "    </tr>\n",
       "    <tr>\n",
       "      <th>1</th>\n",
       "      <td>2</td>\n",
       "      <td>Smartphone</td>\n",
       "      <td>Electronics</td>\n",
       "      <td>Europe</td>\n",
       "      <td>10.0</td>\n",
       "      <td>500.0</td>\n",
       "      <td>5000.0</td>\n",
       "      <td>15-02-2023</td>\n",
       "    </tr>\n",
       "    <tr>\n",
       "      <th>2</th>\n",
       "      <td>3</td>\n",
       "      <td>T-shirt</td>\n",
       "      <td>Apparel</td>\n",
       "      <td>Asia</td>\n",
       "      <td>20.0</td>\n",
       "      <td>15.0</td>\n",
       "      <td>300.0</td>\n",
       "      <td>20-01-2023</td>\n",
       "    </tr>\n",
       "    <tr>\n",
       "      <th>3</th>\n",
       "      <td>4</td>\n",
       "      <td>Washing Machine</td>\n",
       "      <td>Home</td>\n",
       "      <td>North America</td>\n",
       "      <td>2.0</td>\n",
       "      <td>700.0</td>\n",
       "      <td>1400.0</td>\n",
       "      <td>05-03-2023</td>\n",
       "    </tr>\n",
       "    <tr>\n",
       "      <th>4</th>\n",
       "      <td>5</td>\n",
       "      <td>Refrigerator</td>\n",
       "      <td>Home</td>\n",
       "      <td>Europe</td>\n",
       "      <td>1.0</td>\n",
       "      <td>NaN</td>\n",
       "      <td>1200.0</td>\n",
       "      <td>25-01-2023</td>\n",
       "    </tr>\n",
       "  </tbody>\n",
       "</table>\n",
       "</div>"
      ],
      "text/plain": [
       "   OrderID          Product     Category         Region  Quantity  \\\n",
       "0        1           Laptop  Electronics  North America       5.0   \n",
       "1        2       Smartphone  Electronics         Europe      10.0   \n",
       "2        3          T-shirt      Apparel           Asia      20.0   \n",
       "3        4  Washing Machine         Home  North America       2.0   \n",
       "4        5     Refrigerator         Home         Europe       1.0   \n",
       "\n",
       "   PricePerUnit  TotalSales        Date  \n",
       "0         800.0      4000.0  10-01-2023  \n",
       "1         500.0      5000.0  15-02-2023  \n",
       "2          15.0       300.0  20-01-2023  \n",
       "3         700.0      1400.0  05-03-2023  \n",
       "4           NaN      1200.0  25-01-2023  "
      ]
     },
     "execution_count": 3,
     "metadata": {},
     "output_type": "execute_result"
    }
   ],
   "source": [
    "sales_df = pd.read_csv(\"sales_data.csv\")\n",
    "sales_df.head()"
   ]
  },
  {
   "cell_type": "code",
   "execution_count": 7,
   "id": "8459a9d2-7359-4bac-8dfd-5b6bdf296b8d",
   "metadata": {},
   "outputs": [
    {
     "name": "stdout",
     "output_type": "stream",
     "text": [
      "(30, 8)\n",
      "Index(['OrderID', 'Product', 'Category', 'Region', 'Quantity', 'PricePerUnit',\n",
      "       'TotalSales', 'Date'],\n",
      "      dtype='object')\n",
      "RangeIndex(start=0, stop=30, step=1)\n"
     ]
    }
   ],
   "source": [
    "print(sales_df.shape)\n",
    "print(sales_df.columns)\n",
    "print(sales_df.index)"
   ]
  },
  {
   "cell_type": "code",
   "execution_count": 9,
   "id": "df8019a6-631e-4827-836f-25616286463c",
   "metadata": {},
   "outputs": [
    {
     "name": "stdout",
     "output_type": "stream",
     "text": [
      "<class 'pandas.core.frame.DataFrame'>\n",
      "RangeIndex: 30 entries, 0 to 29\n",
      "Data columns (total 8 columns):\n",
      " #   Column        Non-Null Count  Dtype  \n",
      "---  ------        --------------  -----  \n",
      " 0   OrderID       30 non-null     int64  \n",
      " 1   Product       30 non-null     object \n",
      " 2   Category      30 non-null     object \n",
      " 3   Region        30 non-null     object \n",
      " 4   Quantity      27 non-null     float64\n",
      " 5   PricePerUnit  28 non-null     float64\n",
      " 6   TotalSales    27 non-null     float64\n",
      " 7   Date          30 non-null     object \n",
      "dtypes: float64(3), int64(1), object(4)\n",
      "memory usage: 2.0+ KB\n"
     ]
    }
   ],
   "source": [
    "sales_df.info()"
   ]
  },
  {
   "cell_type": "code",
   "execution_count": 11,
   "id": "e98bd6db-05f2-4c49-9ceb-643be85de01f",
   "metadata": {},
   "outputs": [
    {
     "data": {
      "text/plain": [
       "OrderID         0\n",
       "Product         0\n",
       "Category        0\n",
       "Region          0\n",
       "Quantity        3\n",
       "PricePerUnit    2\n",
       "TotalSales      3\n",
       "Date            0\n",
       "dtype: int64"
      ]
     },
     "execution_count": 11,
     "metadata": {},
     "output_type": "execute_result"
    }
   ],
   "source": [
    "sales_df.isnull().sum()"
   ]
  },
  {
   "cell_type": "code",
   "execution_count": 14,
   "id": "51f8f71e-6bf5-41b8-91b9-aaac71fc3c62",
   "metadata": {},
   "outputs": [
    {
     "data": {
      "text/html": [
       "<div>\n",
       "<style scoped>\n",
       "    .dataframe tbody tr th:only-of-type {\n",
       "        vertical-align: middle;\n",
       "    }\n",
       "\n",
       "    .dataframe tbody tr th {\n",
       "        vertical-align: top;\n",
       "    }\n",
       "\n",
       "    .dataframe thead th {\n",
       "        text-align: right;\n",
       "    }\n",
       "</style>\n",
       "<table border=\"1\" class=\"dataframe\">\n",
       "  <thead>\n",
       "    <tr style=\"text-align: right;\">\n",
       "      <th></th>\n",
       "      <th>OrderID</th>\n",
       "      <th>Product</th>\n",
       "      <th>Category</th>\n",
       "      <th>Region</th>\n",
       "      <th>Quantity</th>\n",
       "      <th>PricePerUnit</th>\n",
       "      <th>TotalSales</th>\n",
       "      <th>Date</th>\n",
       "    </tr>\n",
       "  </thead>\n",
       "  <tbody>\n",
       "    <tr>\n",
       "      <th>count</th>\n",
       "      <td>30.000000</td>\n",
       "      <td>30</td>\n",
       "      <td>30</td>\n",
       "      <td>30</td>\n",
       "      <td>27.000000</td>\n",
       "      <td>28.000000</td>\n",
       "      <td>27.000000</td>\n",
       "      <td>30</td>\n",
       "    </tr>\n",
       "    <tr>\n",
       "      <th>unique</th>\n",
       "      <td>NaN</td>\n",
       "      <td>25</td>\n",
       "      <td>3</td>\n",
       "      <td>3</td>\n",
       "      <td>NaN</td>\n",
       "      <td>NaN</td>\n",
       "      <td>NaN</td>\n",
       "      <td>30</td>\n",
       "    </tr>\n",
       "    <tr>\n",
       "      <th>top</th>\n",
       "      <td>NaN</td>\n",
       "      <td>Laptop</td>\n",
       "      <td>Home</td>\n",
       "      <td>Asia</td>\n",
       "      <td>NaN</td>\n",
       "      <td>NaN</td>\n",
       "      <td>NaN</td>\n",
       "      <td>10-01-2023</td>\n",
       "    </tr>\n",
       "    <tr>\n",
       "      <th>freq</th>\n",
       "      <td>NaN</td>\n",
       "      <td>2</td>\n",
       "      <td>11</td>\n",
       "      <td>11</td>\n",
       "      <td>NaN</td>\n",
       "      <td>NaN</td>\n",
       "      <td>NaN</td>\n",
       "      <td>1</td>\n",
       "    </tr>\n",
       "    <tr>\n",
       "      <th>mean</th>\n",
       "      <td>15.500000</td>\n",
       "      <td>NaN</td>\n",
       "      <td>NaN</td>\n",
       "      <td>NaN</td>\n",
       "      <td>8.740741</td>\n",
       "      <td>259.285714</td>\n",
       "      <td>1254.629630</td>\n",
       "      <td>NaN</td>\n",
       "    </tr>\n",
       "    <tr>\n",
       "      <th>std</th>\n",
       "      <td>8.803408</td>\n",
       "      <td>NaN</td>\n",
       "      <td>NaN</td>\n",
       "      <td>NaN</td>\n",
       "      <td>7.465781</td>\n",
       "      <td>266.140851</td>\n",
       "      <td>1202.303019</td>\n",
       "      <td>NaN</td>\n",
       "    </tr>\n",
       "    <tr>\n",
       "      <th>min</th>\n",
       "      <td>1.000000</td>\n",
       "      <td>NaN</td>\n",
       "      <td>NaN</td>\n",
       "      <td>NaN</td>\n",
       "      <td>1.000000</td>\n",
       "      <td>10.000000</td>\n",
       "      <td>250.000000</td>\n",
       "      <td>NaN</td>\n",
       "    </tr>\n",
       "    <tr>\n",
       "      <th>25%</th>\n",
       "      <td>8.250000</td>\n",
       "      <td>NaN</td>\n",
       "      <td>NaN</td>\n",
       "      <td>NaN</td>\n",
       "      <td>3.500000</td>\n",
       "      <td>57.500000</td>\n",
       "      <td>520.000000</td>\n",
       "      <td>NaN</td>\n",
       "    </tr>\n",
       "    <tr>\n",
       "      <th>50%</th>\n",
       "      <td>15.500000</td>\n",
       "      <td>NaN</td>\n",
       "      <td>NaN</td>\n",
       "      <td>NaN</td>\n",
       "      <td>6.000000</td>\n",
       "      <td>135.000000</td>\n",
       "      <td>750.000000</td>\n",
       "      <td>NaN</td>\n",
       "    </tr>\n",
       "    <tr>\n",
       "      <th>75%</th>\n",
       "      <td>22.750000</td>\n",
       "      <td>NaN</td>\n",
       "      <td>NaN</td>\n",
       "      <td>NaN</td>\n",
       "      <td>11.000000</td>\n",
       "      <td>425.000000</td>\n",
       "      <td>1400.000000</td>\n",
       "      <td>NaN</td>\n",
       "    </tr>\n",
       "    <tr>\n",
       "      <th>max</th>\n",
       "      <td>30.000000</td>\n",
       "      <td>NaN</td>\n",
       "      <td>NaN</td>\n",
       "      <td>NaN</td>\n",
       "      <td>30.000000</td>\n",
       "      <td>800.000000</td>\n",
       "      <td>5000.000000</td>\n",
       "      <td>NaN</td>\n",
       "    </tr>\n",
       "  </tbody>\n",
       "</table>\n",
       "</div>"
      ],
      "text/plain": [
       "          OrderID Product Category Region   Quantity  PricePerUnit  \\\n",
       "count   30.000000      30       30     30  27.000000     28.000000   \n",
       "unique        NaN      25        3      3        NaN           NaN   \n",
       "top           NaN  Laptop     Home   Asia        NaN           NaN   \n",
       "freq          NaN       2       11     11        NaN           NaN   \n",
       "mean    15.500000     NaN      NaN    NaN   8.740741    259.285714   \n",
       "std      8.803408     NaN      NaN    NaN   7.465781    266.140851   \n",
       "min      1.000000     NaN      NaN    NaN   1.000000     10.000000   \n",
       "25%      8.250000     NaN      NaN    NaN   3.500000     57.500000   \n",
       "50%     15.500000     NaN      NaN    NaN   6.000000    135.000000   \n",
       "75%     22.750000     NaN      NaN    NaN  11.000000    425.000000   \n",
       "max     30.000000     NaN      NaN    NaN  30.000000    800.000000   \n",
       "\n",
       "         TotalSales        Date  \n",
       "count     27.000000          30  \n",
       "unique          NaN          30  \n",
       "top             NaN  10-01-2023  \n",
       "freq            NaN           1  \n",
       "mean    1254.629630         NaN  \n",
       "std     1202.303019         NaN  \n",
       "min      250.000000         NaN  \n",
       "25%      520.000000         NaN  \n",
       "50%      750.000000         NaN  \n",
       "75%     1400.000000         NaN  \n",
       "max     5000.000000         NaN  "
      ]
     },
     "execution_count": 14,
     "metadata": {},
     "output_type": "execute_result"
    }
   ],
   "source": [
    "#sales_df.describe()\n",
    "sales_df.describe(include='all')"
   ]
  },
  {
   "cell_type": "code",
   "execution_count": 17,
   "id": "8f434706-d8fe-45c5-bbec-6279f60aa9f5",
   "metadata": {},
   "outputs": [
    {
     "name": "stdout",
     "output_type": "stream",
     "text": [
      "<class 'pandas.core.series.Series'>\n",
      "<class 'str'>\n",
      "<class 'str'>\n",
      "<class 'str'>\n"
     ]
    }
   ],
   "source": [
    "print(type(sales_df['Date']))\n",
    "print(type(sales_df['Date'][0]))\n",
    "print(type(sales_df['Date'].iloc[0]))\n",
    "print(type(sales_df['Date'].loc[0]))"
   ]
  },
  {
   "cell_type": "markdown",
   "id": "c0c259bd-9487-4897-a99d-23352935a340",
   "metadata": {},
   "source": [
    "## Handle missing values:\n",
    "\n",
    "- Fill numerical columns with mean/median.\n",
    "- Fill categorical columns with placeholders.\n"
   ]
  },
  {
   "cell_type": "code",
   "execution_count": 27,
   "id": "8b8a6c01-53df-4d59-b69f-c3dc28a5ed2a",
   "metadata": {},
   "outputs": [
    {
     "name": "stdout",
     "output_type": "stream",
     "text": [
      "0     5.0\n",
      "1    10.0\n",
      "2    20.0\n",
      "3     2.0\n",
      "4     1.0\n",
      "5    15.0\n",
      "Name: Quantity, dtype: float64\n",
      "Mean : 8.833333333333334\n",
      "Median : 7.5\n"
     ]
    }
   ],
   "source": [
    "print(sales_df['Quantity'][:6])\n",
    "print(\"Mean :\",sales_df['Quantity'][:6].mean())\n",
    "print(\"Median :\",sales_df['Quantity'][:6].median())"
   ]
  },
  {
   "cell_type": "code",
   "execution_count": 38,
   "id": "6894b52c-33c5-4cfe-8acb-e297927ec0bd",
   "metadata": {},
   "outputs": [
    {
     "name": "stdout",
     "output_type": "stream",
     "text": [
      "Mean : 8.74074074074074\n",
      "Median : 6.0\n",
      "Mode :\n",
      " 0             Jacket\n",
      "1             Laptop\n",
      "2          Microwave\n",
      "3              Shoes\n",
      "4    Washing Machine\n",
      "Name: Product, dtype: object\n",
      "Mode :\n",
      " Jacket\n"
     ]
    }
   ],
   "source": [
    "print(\"Mean :\",sales_df['Quantity'].mean())\n",
    "print(\"Median :\",sales_df['Quantity'].median())\n",
    "print(\"Mode :\\n\",sales_df['Product'].mode())\n",
    "print(\"Mode :\\n\",sales_df['Product'].mode()[0])"
   ]
  },
  {
   "cell_type": "code",
   "execution_count": 40,
   "id": "c23805f4-7074-40ca-a164-742e561bfb2f",
   "metadata": {},
   "outputs": [
    {
     "data": {
      "text/plain": [
       "Product\n",
       "Laptop             2\n",
       "Washing Machine    2\n",
       "Microwave          2\n",
       "Jacket             2\n",
       "Shoes              2\n",
       "Refrigerator       1\n",
       "Headphones         1\n",
       "T-shirt            1\n",
       "Smartphone         1\n",
       "Air Conditioner    1\n",
       "Jeans              1\n",
       "Smartwatch         1\n",
       "Blender            1\n",
       "Dress              1\n",
       "Oven               1\n",
       "Camera             1\n",
       "Tablet             1\n",
       "Hat                1\n",
       "Earphones          1\n",
       "Monitor            1\n",
       "Sofa               1\n",
       "Shirt              1\n",
       "Lamp               1\n",
       "Watch              1\n",
       "Desk               1\n",
       "Name: count, dtype: int64"
      ]
     },
     "execution_count": 40,
     "metadata": {},
     "output_type": "execute_result"
    }
   ],
   "source": [
    "sales_df['Product'].value_counts()"
   ]
  },
  {
   "cell_type": "code",
   "execution_count": 50,
   "id": "a812a18d-5526-45da-96dc-a77d1655dd41",
   "metadata": {},
   "outputs": [],
   "source": [
    "df = sales_df.copy()"
   ]
  },
  {
   "cell_type": "code",
   "execution_count": 56,
   "id": "7d2b0062-0be1-4e43-a0e8-9d47dcfc99c4",
   "metadata": {},
   "outputs": [],
   "source": [
    "#'Quantity', 'PricePerUnit','TotalSales'\n",
    "#df['Quantity'] = df['Quantity'].fillna(0)\n",
    "df.fillna({'Quantity':df['Quantity'].mean(),'PricePerUnit':df['PricePerUnit'].mean(),'TotalSales':df['TotalSales'].mean()},inplace=True)"
   ]
  },
  {
   "cell_type": "code",
   "execution_count": 57,
   "id": "4c711689-20ca-44da-86cd-f6bc3f4a6aa4",
   "metadata": {},
   "outputs": [
    {
     "data": {
      "text/plain": [
       "OrderID         0\n",
       "Product         0\n",
       "Category        0\n",
       "Region          0\n",
       "Quantity        0\n",
       "PricePerUnit    0\n",
       "TotalSales      0\n",
       "Date            0\n",
       "dtype: int64"
      ]
     },
     "execution_count": 57,
     "metadata": {},
     "output_type": "execute_result"
    }
   ],
   "source": [
    "df.isnull().sum()"
   ]
  },
  {
   "cell_type": "markdown",
   "id": "5c20afb6-8514-4be8-97df-819d591b77c0",
   "metadata": {},
   "source": [
    "## Perform KPI Analysis:\n",
    "\n",
    " - Total sales by region and category.\n",
    " - Identify the highest-selling product.\n",
    " - Calculate monthly sales trends.\n"
   ]
  },
  {
   "cell_type": "code",
   "execution_count": 81,
   "id": "aa7e1ebc-0f5a-4f84-8b6e-5482412f81d3",
   "metadata": {},
   "outputs": [
    {
     "name": "stdout",
     "output_type": "stream",
     "text": [
      "Region         Category   \n",
      "Asia           Apparel         1940.00000\n",
      "               Electronics     4004.62963\n",
      "               Home            2260.00000\n",
      "Europe         Apparel          730.00000\n",
      "               Electronics    13200.00000\n",
      "               Home            4054.62963\n",
      "North America  Apparel         2495.00000\n",
      "               Electronics     5400.00000\n",
      "               Home            3554.62963\n",
      "Name: TotalSales, dtype: float64\n",
      "7200.0\n",
      "Laptop\n",
      "Laptop\n",
      "Jacket\n",
      "<class 'str'>\n",
      "<class 'str'>\n",
      "<class 'str'>\n",
      "<class 'pandas._libs.tslibs.timestamps.Timestamp'>\n",
      "<class 'pandas._libs.tslibs.timestamps.Timestamp'>\n",
      "<class 'pandas._libs.tslibs.timestamps.Timestamp'>\n",
      "   OrderID          Product     Category         Region  Quantity  \\\n",
      "0        1           Laptop  Electronics  North America       5.0   \n",
      "1        2       Smartphone  Electronics         Europe      10.0   \n",
      "2        3          T-shirt      Apparel           Asia      20.0   \n",
      "3        4  Washing Machine         Home  North America       2.0   \n",
      "4        5     Refrigerator         Home         Europe       1.0   \n",
      "\n",
      "   PricePerUnit  TotalSales        Date      NDate    Month  \n",
      "0    800.000000      4000.0  10-01-2023 2023-01-10  2023-01  \n",
      "1    500.000000      5000.0  15-02-2023 2023-02-15  2023-02  \n",
      "2     15.000000       300.0  20-01-2023 2023-01-20  2023-01  \n",
      "3    700.000000      1400.0  05-03-2023 2023-03-05  2023-03  \n",
      "4    259.285714      1200.0  25-01-2023 2023-01-25  2023-01  \n",
      "Month\n",
      "2023-01    5500.00000\n",
      "2023-02    5750.00000\n",
      "2023-03    2780.00000\n",
      "2023-04     480.00000\n",
      "2023-05    1254.62963\n",
      "2023-06    1400.00000\n",
      "2023-07    1080.00000\n",
      "2023-08    1800.00000\n",
      "2023-09    1240.00000\n",
      "2023-10    1400.00000\n",
      "2023-11     950.00000\n",
      "2023-12    1100.00000\n",
      "2024-01    1254.62963\n",
      "2024-02    1000.00000\n",
      "2024-03     855.00000\n",
      "2024-04    3200.00000\n",
      "2024-05    1254.62963\n",
      "2024-06    4200.00000\n",
      "2024-07    1140.00000\n",
      "Freq: M, Name: TotalSales, dtype: float64\n"
     ]
    }
   ],
   "source": [
    "# 1. Total sales by region and category\n",
    "#df['TotalSales'].sum()\n",
    "print(df.groupby(['Region','Category'])['TotalSales'].sum())\n",
    "\n",
    "# 2.Identify the highest-selling product\n",
    "product_sales = df.groupby(['Product'])['TotalSales'].sum().sort_values(ascending=False)\n",
    "print(product_sales.iloc[0])\n",
    "print(product_sales.index[0])\n",
    "print(df.groupby(['Product'])['TotalSales'].sum().idxmax())\n",
    "print(df.groupby(['Product'])['TotalSales'].count().idxmax())\n",
    "\n",
    "# 3.Calculate monthly sales trends\n",
    "\n",
    "print(type(df['Date'][0]))\n",
    "print(type(df['Date'].iloc[0]))\n",
    "print(type(df['Date'].loc[0]))\n",
    "\n",
    "df['NDate'] = pd.to_datetime(df['Date'],format='%d-%m-%Y')\n",
    "print(type(df['NDate'][0]))\n",
    "print(type(df['NDate'].iloc[0]))\n",
    "print(type(df['NDate'].loc[0]))\n",
    "\n",
    "df['Month'] = df['NDate'].dt.to_period('M')\n",
    "print(df.head())\n",
    "print(df.groupby(['Month'])['TotalSales'].sum())"
   ]
  },
  {
   "cell_type": "markdown",
   "id": "d6385b5b-3ae6-46b1-be07-04b0fa1df699",
   "metadata": {},
   "source": [
    "## Advanced Questions:\n",
    "\n",
    " - Find the region with the highest average price per unit.\n",
    " - Determine the most popular product category.\n",
    " - Identify the region with the highest sales growth."
   ]
  },
  {
   "cell_type": "code",
   "execution_count": 86,
   "id": "94090825-c48d-4499-8cc5-bc0f405fafea",
   "metadata": {},
   "outputs": [
    {
     "name": "stdout",
     "output_type": "stream",
     "text": [
      "North America\n",
      "Electronics\n",
      "Europe\n"
     ]
    }
   ],
   "source": [
    "# 1. Find the region with the highest average price per unit.\n",
    "print(df.groupby('Region')['PricePerUnit'].mean().idxmax())\n",
    "\n",
    "# 2.Determine the most popular product category.\n",
    "print(df.groupby('Category')['TotalSales'].sum().idxmax())\n",
    "\n",
    "# 3.Identify the region with the highest sales growth.\n",
    "df['PrvMonthSales'] = df.groupby('Region')['TotalSales'].shift(1)\n",
    "df['SalesGrowth'] = (df['TotalSales'] - df['PrvMonthSales']) / df['PrvMonthSales']\n",
    "#print(df['SalesGrowth'])\n",
    "print(df.groupby('Region')['SalesGrowth'].mean().idxmax())"
   ]
  }
 ],
 "metadata": {
  "kernelspec": {
   "display_name": "Python 3 (ipykernel)",
   "language": "python",
   "name": "python3"
  },
  "language_info": {
   "codemirror_mode": {
    "name": "ipython",
    "version": 3
   },
   "file_extension": ".py",
   "mimetype": "text/x-python",
   "name": "python",
   "nbconvert_exporter": "python",
   "pygments_lexer": "ipython3",
   "version": "3.13.0"
  }
 },
 "nbformat": 4,
 "nbformat_minor": 5
}
