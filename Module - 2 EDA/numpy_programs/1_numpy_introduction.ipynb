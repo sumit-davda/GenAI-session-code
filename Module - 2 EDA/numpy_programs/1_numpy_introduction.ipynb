{
 "cells": [
  {
   "cell_type": "code",
   "execution_count": 1,
   "id": "e95b5db9-0865-4a53-b8f5-d524a340088c",
   "metadata": {},
   "outputs": [
    {
     "name": "stdout",
     "output_type": "stream",
     "text": [
      "Requirement already satisfied: numpy in c:\\users\\erdav\\appdata\\local\\programs\\python\\python313\\lib\\site-packages (2.1.3)\n"
     ]
    },
    {
     "name": "stderr",
     "output_type": "stream",
     "text": [
      "\n",
      "[notice] A new release of pip is available: 24.2 -> 24.3.1\n",
      "[notice] To update, run: python.exe -m pip install --upgrade pip\n"
     ]
    }
   ],
   "source": [
    "!pip install numpy"
   ]
  },
  {
   "cell_type": "code",
   "execution_count": 6,
   "id": "e5c55d51-e19b-4dfd-9ac3-f7da5919412b",
   "metadata": {},
   "outputs": [],
   "source": [
    "import numpy as np\n",
    "#help(np)"
   ]
  },
  {
   "cell_type": "code",
   "execution_count": 34,
   "id": "85f2766b-c339-4927-893b-68084ea66f35",
   "metadata": {},
   "outputs": [
    {
     "name": "stdout",
     "output_type": "stream",
     "text": [
      "[10, 20, 30, 40, 50] <class 'list'>\n",
      "[10 20 30 40 50]\n",
      "<class 'numpy.ndarray'>\n",
      "(5,)\n",
      "1\n",
      "int64\n",
      "150\n",
      "10\n",
      "50\n"
     ]
    }
   ],
   "source": [
    "#lst = [10,20,30,40,50]\n",
    "lst = list(range(10,51,10))\n",
    "print(lst,type(lst))\n",
    "\n",
    "# convert list into ndarray\n",
    "arr1 = np.array(lst)\n",
    "print(arr1)\n",
    "print(type(arr1))\n",
    "print(arr1.shape) # tuple\n",
    "print(arr1.ndim)\n",
    "print(arr1.dtype) # 64 bits : 8 bytes\n",
    "print(arr1.sum())\n",
    "print(arr1.min())\n",
    "print(arr1.max())"
   ]
  },
  {
   "cell_type": "code",
   "execution_count": 44,
   "id": "68e2fb23-9805-48fe-9c0f-ebc258b429c0",
   "metadata": {},
   "outputs": [
    {
     "name": "stdout",
     "output_type": "stream",
     "text": [
      "[[10, 20, 30], [40, 50, 60]] <class 'list'>\n",
      "[[10 20 30]\n",
      " [40 50 60]]\n",
      "<class 'numpy.ndarray'>\n",
      "(2, 3)\n",
      "2\n",
      "int8\n",
      "Sum of all the elements : 210\n",
      "Sum of all the elements : [50 70 90]\n",
      "Sum of all the elements : [ 60 150]\n",
      "Help on built-in function sum:\n",
      "\n",
      "sum(...) method of numpy.ndarray instance\n",
      "    a.sum(axis=None, dtype=None, out=None, keepdims=False, initial=0, where=True)\n",
      "\n",
      "    Return the sum of the array elements over the given axis.\n",
      "\n",
      "    Refer to `numpy.sum` for full documentation.\n",
      "\n",
      "    See Also\n",
      "    --------\n",
      "    numpy.sum : equivalent function\n",
      "\n"
     ]
    }
   ],
   "source": [
    "lst1 = [[10,20,30],[40,50,60]]\n",
    "print(lst1,type(lst1))\n",
    "\n",
    "# convert list into ndarray\n",
    "#arr2 = np.array(lst1,dtype='i1')\n",
    "arr2 = np.array(lst1,dtype= np.int8)\n",
    "\n",
    "print(arr2)\n",
    "print(type(arr2))\n",
    "print(arr2.shape) # tuple\n",
    "print(arr2.ndim)\n",
    "print(arr2.dtype)\n",
    "print(\"Sum of all the elements :\",arr2.sum())\n",
    "print(\"Sum of all the elements :\",arr2.sum(axis=0))\n",
    "print(\"Sum of all the elements :\",arr2.sum(axis=1))\n",
    "help(arr2.sum)\n",
    "#help(np.sum)"
   ]
  },
  {
   "cell_type": "code",
   "execution_count": 22,
   "id": "9e309627-3173-497a-8852-34241df5228e",
   "metadata": {},
   "outputs": [
    {
     "name": "stdout",
     "output_type": "stream",
     "text": [
      "[10, 20, 3.2] <class 'list'>\n"
     ]
    }
   ],
   "source": [
    "lst = [10,20,3.2]\n",
    "print(lst,type(lst))"
   ]
  },
  {
   "cell_type": "code",
   "execution_count": 25,
   "id": "32104db4-7a3a-49c1-9945-ccfcef1bb042",
   "metadata": {},
   "outputs": [
    {
     "name": "stdout",
     "output_type": "stream",
     "text": [
      "[10.  20.   3.2] <class 'numpy.ndarray'>\n",
      "float64\n"
     ]
    }
   ],
   "source": [
    "arr2 = np.array(lst)\n",
    "print(arr2,type(arr2))\n",
    "print(arr2.dtype)"
   ]
  },
  {
   "cell_type": "code",
   "execution_count": 27,
   "id": "f3ab234a-a162-463c-bc08-44b21bb33409",
   "metadata": {},
   "outputs": [
    {
     "name": "stdout",
     "output_type": "stream",
     "text": [
      "[10, 20, 3.4, 'welcome'] <class 'list'>\n"
     ]
    }
   ],
   "source": [
    "lst = [10,20,3.4,'welcome']\n",
    "print(lst,type(lst))"
   ]
  },
  {
   "cell_type": "code",
   "execution_count": 30,
   "id": "d58d89b3-dc2a-4a79-bf75-c10e9c4dc866",
   "metadata": {},
   "outputs": [
    {
     "name": "stdout",
     "output_type": "stream",
     "text": [
      "['10' '20' '3.4' 'welcome'] <class 'numpy.ndarray'>\n",
      "<U32\n"
     ]
    }
   ],
   "source": [
    "arr3 = np.array(lst)\n",
    "print(arr3,type(arr3))\n",
    "print(arr3.dtype)"
   ]
  },
  {
   "cell_type": "code",
   "execution_count": 47,
   "id": "c82374bc-54c9-4785-b7e4-d735884a7f30",
   "metadata": {},
   "outputs": [],
   "source": [
    "#for name in dir(arr3):\n",
    "#for name in dir(np):\n",
    "#    if '_' not in name:\n",
    "#        print(name)"
   ]
  },
  {
   "cell_type": "code",
   "execution_count": 58,
   "id": "849395bc-c595-407a-88e0-fb875dc9c780",
   "metadata": {},
   "outputs": [
    {
     "name": "stdout",
     "output_type": "stream",
     "text": [
      "[1. 1.] <class 'numpy.ndarray'>\n",
      "[[1. 1. 1. 1. 1.]\n",
      " [1. 1. 1. 1. 1.]\n",
      " [1. 1. 1. 1. 1.]] <class 'numpy.ndarray'>\n",
      "[[1. 1. 1. 1. 1.]\n",
      " [1. 1. 1. 1. 1.]\n",
      " [1. 1. 1. 1. 1.]] <class 'numpy.ndarray'>\n",
      "float16\n"
     ]
    }
   ],
   "source": [
    "# create ndarray with all the 1s\n",
    "#help(np.ones)\n",
    "arr1 = np.ones(2)\n",
    "print(arr1,type(arr1))\n",
    "\n",
    "arr2 = np.ones((3,5))\n",
    "print(arr2,type(arr2))\n",
    "\n",
    "#arr2 = np.ones((3,5),dtype=np.float16)# 'f2'\n",
    "arr2 = np.ones((3,5),dtype='f2')# 'f2'\n",
    "print(arr2,type(arr2))\n",
    "print(arr2.dtype)"
   ]
  },
  {
   "cell_type": "code",
   "execution_count": 60,
   "id": "065f6d94-c14b-488f-b6a3-81aa07941453",
   "metadata": {},
   "outputs": [],
   "source": [
    "#help(np)"
   ]
  }
 ],
 "metadata": {
  "kernelspec": {
   "display_name": "Python 3 (ipykernel)",
   "language": "python",
   "name": "python3"
  },
  "language_info": {
   "codemirror_mode": {
    "name": "ipython",
    "version": 3
   },
   "file_extension": ".py",
   "mimetype": "text/x-python",
   "name": "python",
   "nbconvert_exporter": "python",
   "pygments_lexer": "ipython3",
   "version": "3.13.0"
  }
 },
 "nbformat": 4,
 "nbformat_minor": 5
}
