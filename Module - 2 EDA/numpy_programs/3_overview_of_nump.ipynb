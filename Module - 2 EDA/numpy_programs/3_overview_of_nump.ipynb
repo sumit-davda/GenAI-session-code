{
 "cells": [
  {
   "cell_type": "markdown",
   "id": "ab0a9abe-536d-41ac-959f-feda6c405eb0",
   "metadata": {},
   "source": [
    "## Homogeneity\n",
    "- All elements in a NumPy array must be of the same data type (e.g., all integers, all floats, etc.).\n",
    "- This ensures efficient memory usage and consistent performance."
   ]
  },
  {
   "cell_type": "code",
   "execution_count": 1,
   "id": "122b8b55-213b-429a-8b3a-599e6868777f",
   "metadata": {},
   "outputs": [
    {
     "name": "stdout",
     "output_type": "stream",
     "text": [
      "[1 2 3]\n",
      "(3,)\n",
      "int64\n",
      "1\n",
      "8\n"
     ]
    }
   ],
   "source": [
    "import numpy as np\n",
    "arr = np.array([1, 2, 3])  # All elements are integers\n",
    "print(arr)\n",
    "print(arr.shape)\n",
    "print(arr.dtype)\n",
    "print(arr.ndim)\n",
    "print(arr.itemsize)"
   ]
  },
  {
   "cell_type": "markdown",
   "id": "39787557-e00a-4f17-ad2f-bed04ae23643",
   "metadata": {},
   "source": [
    "## Fixed Size\n",
    "- The size of a NumPy array is fixed upon creation.\n",
    "- You cannot add or remove elements directly; instead, you must create a new array if the size needs to change."
   ]
  },
  {
   "cell_type": "markdown",
   "id": "500bc0b4-9df5-44be-aed4-1cc1084dfc33",
   "metadata": {},
   "source": [
    "## Efficient Memory Usage\n",
    "- NumPy arrays are stored in contiguous blocks of memory, making them faster and more memory-efficient than Python lists."
   ]
  },
  {
   "cell_type": "markdown",
   "id": "f99a12bd-e5f8-4afa-a288-d662bceb7237",
   "metadata": {},
   "source": [
    "## Support for Multi-Dimensional Data\n",
    "- Arrays can have multiple dimensions (1D, 2D, 3D, or higher):\n",
    "- 1D array: [1, 2, 3]\n",
    "- 2D array: [[1, 2], [3, 4]]\n",
    "- 3D array: [[[1], [2]], [[3], [4]]]"
   ]
  },
  {
   "cell_type": "markdown",
   "id": "64eb0493-312f-4bc0-ada0-f5d4e87c095a",
   "metadata": {},
   "source": [
    "## Broadcasting\n",
    "- NumPy supports broadcasting, allowing arithmetic operations between arrays of different shapes (if they are compatible)."
   ]
  },
  {
   "cell_type": "code",
   "execution_count": 2,
   "id": "43da3e76-1103-4df6-993c-76ed488c6406",
   "metadata": {},
   "outputs": [
    {
     "name": "stdout",
     "output_type": "stream",
     "text": [
      "[3 4 5]\n"
     ]
    }
   ],
   "source": [
    "arr1 = np.array([1, 2, 3])\n",
    "arr2 = 2\n",
    "print(arr1 + arr2)  # Output: [3 4 5]\n"
   ]
  },
  {
   "cell_type": "markdown",
   "id": "13115703-4ff0-4366-b6a1-e0233c45fdb3",
   "metadata": {},
   "source": [
    "## Immutability of Data Type\n",
    "- Once an array is created, its data type (dtype) cannot be changed. However, you can create a new array with a different type by casting:"
   ]
  },
  {
   "cell_type": "code",
   "execution_count": 4,
   "id": "10ab6da2-9393-40dc-81cc-1503d63af89d",
   "metadata": {},
   "outputs": [
    {
     "name": "stdout",
     "output_type": "stream",
     "text": [
      "1566901584880\n",
      "[1 2 3]\n",
      "1566901584400\n",
      "[1. 2. 3.]\n"
     ]
    }
   ],
   "source": [
    "arr = np.array([1, 2, 3], dtype=int)\n",
    "print(id(arr))\n",
    "print(arr)\n",
    "arr_float = arr.astype(float)  # Cast to float\n",
    "print(id(arr_float))\n",
    "print(arr_float)"
   ]
  },
  {
   "cell_type": "markdown",
   "id": "cff17dda-f112-47f3-969a-9d66fdefece8",
   "metadata": {},
   "source": [
    "## Indexing and Slicing\n",
    "- NumPy arrays support advanced indexing and slicing, including boolean indexing."
   ]
  },
  {
   "cell_type": "code",
   "execution_count": 5,
   "id": "2ac7d081-9f30-4034-8852-fd7c12598d8b",
   "metadata": {},
   "outputs": [
    {
     "name": "stdout",
     "output_type": "stream",
     "text": [
      "[20 30 40]\n",
      "[30 40 50]\n"
     ]
    }
   ],
   "source": [
    "arr = np.array([10, 20, 30, 40, 50])\n",
    "print(arr[1:4])  # Output: [20 30 40]\n",
    "print(arr[arr > 25])  # Output: [30 40 50] # boolean indexing\n"
   ]
  },
  {
   "cell_type": "markdown",
   "id": "cf7f8732-614e-4b61-8e4a-ddf6041e555e",
   "metadata": {},
   "source": [
    "## Performance\n",
    "- NumPy is highly optimized for numerical operations and is much faster than Python lists due to its implementation in C."
   ]
  },
  {
   "cell_type": "code",
   "execution_count": 6,
   "id": "75bbc9e9-fbe7-4186-b012-1b31fae5b5a7",
   "metadata": {},
   "outputs": [
    {
     "name": "stdout",
     "output_type": "stream",
     "text": [
      "[2 4 6]\n"
     ]
    }
   ],
   "source": [
    "arr = np.array([1, 2, 3])\n",
    "print(arr * 2)  # Element-wise operation: [2 4 6]\n"
   ]
  },
  {
   "cell_type": "markdown",
   "id": "d9d972f0-ad4f-4c6c-91a6-c16bd763c584",
   "metadata": {},
   "source": [
    "## Universal Functions (UFuncs)\n",
    "- NumPy provides built-in mathematical functions (sin, cos, log, etc.) that operate element-wise on arrays."
   ]
  },
  {
   "cell_type": "code",
   "execution_count": 7,
   "id": "48e69a09-1074-4aba-b7c3-f38d72f5bfe7",
   "metadata": {},
   "outputs": [
    {
     "name": "stdout",
     "output_type": "stream",
     "text": [
      "[0.0000000e+00 1.0000000e+00 1.2246468e-16]\n"
     ]
    }
   ],
   "source": [
    "arr = np.array([0, np.pi/2, np.pi])\n",
    "print(np.sin(arr))  # Output: [0. 1. 0.]"
   ]
  },
  {
   "cell_type": "markdown",
   "id": "f6dadd67-820d-4f1d-a66d-3cee834fc4fb",
   "metadata": {},
   "source": [
    "## Shape and Dimension\n",
    "- Each array has a shape and dimension:\n",
    "- shape: Tuple representing the size of each dimension.\n",
    "- ndim: Number of dimensions."
   ]
  },
  {
   "cell_type": "code",
   "execution_count": 8,
   "id": "6cfcf492-9e08-41ce-ab5b-8fd5c2830861",
   "metadata": {},
   "outputs": [
    {
     "name": "stdout",
     "output_type": "stream",
     "text": [
      "(2, 2)\n",
      "2\n"
     ]
    }
   ],
   "source": [
    "arr = np.array([[1, 2], [3, 4]])\n",
    "print(arr.shape)  # Output: (2, 2)\n",
    "print(arr.ndim)   # Output: 2"
   ]
  },
  {
   "cell_type": "markdown",
   "id": "d475d815-b034-4081-9aa8-370c81c9c81f",
   "metadata": {},
   "source": [
    "## Mutable Elements\n",
    "- You can modify individual elements or slices of an array"
   ]
  },
  {
   "cell_type": "code",
   "execution_count": 9,
   "id": "101cb3cb-27f1-4f74-b2d6-5b59b4c360fa",
   "metadata": {},
   "outputs": [
    {
     "name": "stdout",
     "output_type": "stream",
     "text": [
      "[10  2  3]\n"
     ]
    }
   ],
   "source": [
    "arr = np.array([1, 2, 3])\n",
    "arr[0] = 10\n",
    "print(arr)  # Output: [10 2 3]\n"
   ]
  }
 ],
 "metadata": {
  "kernelspec": {
   "display_name": "Python 3 (ipykernel)",
   "language": "python",
   "name": "python3"
  },
  "language_info": {
   "codemirror_mode": {
    "name": "ipython",
    "version": 3
   },
   "file_extension": ".py",
   "mimetype": "text/x-python",
   "name": "python",
   "nbconvert_exporter": "python",
   "pygments_lexer": "ipython3",
   "version": "3.13.0"
  }
 },
 "nbformat": 4,
 "nbformat_minor": 5
}
