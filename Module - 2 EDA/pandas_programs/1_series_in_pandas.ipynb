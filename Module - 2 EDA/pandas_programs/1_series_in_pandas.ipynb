{
 "cells": [
  {
   "cell_type": "code",
   "execution_count": 1,
   "id": "e8078c2c-7fc4-4d06-a77e-a9b07d76e0bd",
   "metadata": {},
   "outputs": [
    {
     "name": "stdout",
     "output_type": "stream",
     "text": [
      "Requirement already satisfied: pandas in c:\\users\\erdav\\appdata\\local\\programs\\python\\python313\\lib\\site-packages (2.2.3)\n",
      "Requirement already satisfied: numpy>=1.26.0 in c:\\users\\erdav\\appdata\\local\\programs\\python\\python313\\lib\\site-packages (from pandas) (2.1.3)\n",
      "Requirement already satisfied: python-dateutil>=2.8.2 in c:\\users\\erdav\\appdata\\local\\programs\\python\\python313\\lib\\site-packages (from pandas) (2.9.0.post0)\n",
      "Requirement already satisfied: pytz>=2020.1 in c:\\users\\erdav\\appdata\\local\\programs\\python\\python313\\lib\\site-packages (from pandas) (2024.2)\n",
      "Requirement already satisfied: tzdata>=2022.7 in c:\\users\\erdav\\appdata\\local\\programs\\python\\python313\\lib\\site-packages (from pandas) (2024.2)\n",
      "Requirement already satisfied: six>=1.5 in c:\\users\\erdav\\appdata\\local\\programs\\python\\python313\\lib\\site-packages (from python-dateutil>=2.8.2->pandas) (1.16.0)\n"
     ]
    },
    {
     "name": "stderr",
     "output_type": "stream",
     "text": [
      "\n",
      "[notice] A new release of pip is available: 24.2 -> 24.3.1\n",
      "[notice] To update, run: python.exe -m pip install --upgrade pip\n"
     ]
    }
   ],
   "source": [
    "!pip install pandas"
   ]
  },
  {
   "cell_type": "code",
   "execution_count": 15,
   "id": "7bf6347e-8ca7-4e85-ab95-d8a53e4cb6b3",
   "metadata": {},
   "outputs": [],
   "source": [
    "import pandas as pd\n",
    "import numpy as np\n",
    "#help(pd)"
   ]
  },
  {
   "cell_type": "code",
   "execution_count": 14,
   "id": "10d07abe-2657-46e9-bd49-c015438312ea",
   "metadata": {},
   "outputs": [
    {
     "name": "stdout",
     "output_type": "stream",
     "text": [
      "[10, 20, 30, 40, 50] <class 'list'>\n",
      "0    10\n",
      "1    20\n",
      "2    30\n",
      "3    40\n",
      "4    50\n",
      "dtype: int64\n",
      "<class 'pandas.core.series.Series'>\n",
      "int64\n",
      "(5,)\n",
      "10\n",
      "*******************\n",
      "0    10\n",
      "1    20\n",
      "dtype: int64\n"
     ]
    }
   ],
   "source": [
    "# python list into Series\n",
    "lst = list(range(10,51,10))\n",
    "print(lst,type(lst))\n",
    "\n",
    "s1 = pd.Series(lst)\n",
    "print(s1)\n",
    "print(type(s1))\n",
    "print(s1.dtype)\n",
    "print(s1.shape)\n",
    "print(s1[0])\n",
    "#print(s1[-1])\n",
    "print(\"*******************\")\n",
    "print(s1[0:2])"
   ]
  },
  {
   "cell_type": "code",
   "execution_count": 18,
   "id": "fe4e90bf-79e4-4ca5-93db-5748515f5623",
   "metadata": {},
   "outputs": [
    {
     "data": {
      "text/plain": [
       "['a', 'b', 'c', 'd', 'e']"
      ]
     },
     "execution_count": 18,
     "metadata": {},
     "output_type": "execute_result"
    }
   ],
   "source": [
    "list('abcde')"
   ]
  },
  {
   "cell_type": "code",
   "execution_count": 29,
   "id": "d8896077-eb19-48c5-a187-8f46e9868140",
   "metadata": {},
   "outputs": [
    {
     "name": "stdout",
     "output_type": "stream",
     "text": [
      "[10 20 30 40 50] <class 'numpy.ndarray'>\n",
      "a    10\n",
      "b    20\n",
      "c    30\n",
      "d    40\n",
      "a    50\n",
      "dtype: int64\n",
      "a    10\n",
      "a    50\n",
      "dtype: int64\n",
      "10\n",
      "a    10\n",
      "a    50\n",
      "dtype: int64\n",
      "60\n"
     ]
    }
   ],
   "source": [
    "# ndarray into Series & labelled index\n",
    "arr1 = np.arange(10,51,10)\n",
    "print(arr1,type(arr1))\n",
    "\n",
    "#s1 = pd.Series(arr1)\n",
    "#s1 = pd.Series(arr1,index=list('abcde'))\n",
    "s1 = pd.Series(arr1,index=list('abcda'))\n",
    "print(s1)\n",
    "\n",
    "print(s1['a'])     # labelled index\n",
    "print(s1.iloc[0])  # internal index \n",
    "print(s1.loc['a']) # labelled index\n",
    "print(s1['a'].sum())  "
   ]
  },
  {
   "cell_type": "code",
   "execution_count": 32,
   "id": "04bf13a6-673d-4cf0-94c2-7f2e9eddb91f",
   "metadata": {},
   "outputs": [],
   "source": [
    "#help(s1)"
   ]
  },
  {
   "cell_type": "code",
   "execution_count": 35,
   "id": "3582616f-0e85-46f0-a232-a8463f7f72de",
   "metadata": {},
   "outputs": [
    {
     "name": "stdout",
     "output_type": "stream",
     "text": [
      "a    1.0\n",
      "b    2.0\n",
      "d    NaN\n",
      "a    1.0\n",
      "dtype: float64\n"
     ]
    }
   ],
   "source": [
    "d = {'a': 1, 'b': 2, 'c': 3}\n",
    "#ser = pd.Series(d)\n",
    "#ser = pd.Series(d,index=['a','b','d'])\n",
    "ser = pd.Series(d,index=['a','b','d','a'])\n",
    "print(ser)"
   ]
  }
 ],
 "metadata": {
  "kernelspec": {
   "display_name": "Python 3 (ipykernel)",
   "language": "python",
   "name": "python3"
  },
  "language_info": {
   "codemirror_mode": {
    "name": "ipython",
    "version": 3
   },
   "file_extension": ".py",
   "mimetype": "text/x-python",
   "name": "python",
   "nbconvert_exporter": "python",
   "pygments_lexer": "ipython3",
   "version": "3.13.0"
  }
 },
 "nbformat": 4,
 "nbformat_minor": 5
}
