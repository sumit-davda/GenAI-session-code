{
 "cells": [
  {
   "cell_type": "code",
   "execution_count": 1,
   "id": "6c7d15ba-a375-46d5-aee4-6d3fc4e8bbde",
   "metadata": {},
   "outputs": [
    {
     "name": "stdout",
     "output_type": "stream",
     "text": [
      "[ 10  20  30  40  50  60  70  80  90 100]\n",
      "10\n",
      "30\n",
      "100\n",
      "70\n"
     ]
    }
   ],
   "source": [
    "#indexing : Positive and Negative\n",
    "\n",
    "import numpy as np\n",
    "\n",
    "lst = list(range(10,101,10))\n",
    "arr = np.array(lst)\n",
    "\n",
    "print(arr)\n",
    "print(arr[0]) # positive indexing\n",
    "print(arr[2]) # positive indexing\n",
    "\n",
    "print(arr[-1]) # negative indexing\n",
    "print(arr[-4]) # negative indexing\n"
   ]
  },
  {
   "cell_type": "code",
   "execution_count": 5,
   "id": "191ce7f7-7fd3-4c01-806c-71915759d812",
   "metadata": {},
   "outputs": [
    {
     "name": "stdout",
     "output_type": "stream",
     "text": [
      "[ 10  20  30  40  50  60  70  80  90 100]\n",
      "[10 20]\n",
      "[ 60  70  80  90 100]\n",
      "[10 20 30 40]\n",
      "[10 30 50 70 90]\n",
      "[10 30 50]\n",
      "[ 60  70  80  90 100]\n",
      "[]\n",
      "[60 50]\n",
      "[100  90  80  70  60  50  40  30  20  10]\n"
     ]
    }
   ],
   "source": [
    "# slicing  : Positive and Negative\n",
    "\n",
    "import numpy as np\n",
    "\n",
    "lst = list(range(10,101,10))\n",
    "arr = np.array(lst)\n",
    "\n",
    "print(arr)\n",
    "\n",
    "# positive slicing\n",
    "print(arr[0:2]) \n",
    "print(arr[5:])\n",
    "print(arr[:4])\n",
    "print(arr[::2])\n",
    "print(arr[:5:2])\n",
    "\n",
    "# negative slicing\n",
    "print(arr[-5:]) \n",
    "print(arr[-5:-7])\n",
    "print(arr[-5:-7:-1])\n",
    "print(arr[::-1])\n"
   ]
  }
 ],
 "metadata": {
  "kernelspec": {
   "display_name": "Python 3 (ipykernel)",
   "language": "python",
   "name": "python3"
  },
  "language_info": {
   "codemirror_mode": {
    "name": "ipython",
    "version": 3
   },
   "file_extension": ".py",
   "mimetype": "text/x-python",
   "name": "python",
   "nbconvert_exporter": "python",
   "pygments_lexer": "ipython3",
   "version": "3.13.0"
  }
 },
 "nbformat": 4,
 "nbformat_minor": 5
}
