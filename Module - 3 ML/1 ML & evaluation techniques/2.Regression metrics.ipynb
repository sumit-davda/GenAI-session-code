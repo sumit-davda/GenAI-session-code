{
 "cells": [
  {
   "cell_type": "code",
   "execution_count": 6,
   "id": "e516db3c-4346-4032-937d-5f26364fe330",
   "metadata": {},
   "outputs": [],
   "source": [
    "from sklearn.metrics import accuracy_score, precision_score, recall_score, f1_score, confusion_matrix"
   ]
  },
  {
   "cell_type": "code",
   "execution_count": 2,
   "id": "8e37e06f-4d8e-48fe-8742-b763bc933903",
   "metadata": {},
   "outputs": [],
   "source": [
    "# Example data\n",
    "actual = [1, 0, 1, 1, 0, 1, 0, 0, 1, 0]  # Actual class labels\n",
    "predicted  = [1, 0, 1, 0, 0, 1, 1, 0, 0, 0]  # Predicted class labels"
   ]
  },
  {
   "cell_type": "code",
   "execution_count": 3,
   "id": "7c135fa1-2972-426f-aeaf-ccd02014dd8f",
   "metadata": {},
   "outputs": [
    {
     "name": "stdout",
     "output_type": "stream",
     "text": [
      "TP: 3 TN: 4 FP: 1 FN: 2\n"
     ]
    }
   ],
   "source": [
    "TP = sum((1 for a, p in zip(actual, predicted) if a == 1 and p == 1))  # True Positives\n",
    "TN = sum((1 for a, p in zip(actual, predicted) if a == 0 and p == 0))  # True Negatives\n",
    "FP = sum((1 for a, p in zip(actual, predicted) if a == 0 and p == 1))  # False Positives\n",
    "FN = sum((1 for a, p in zip(actual, predicted) if a == 1 and p == 0))  # False Negatives\n",
    "\n",
    "# Print the counts\n",
    "print(\"TP:\", TP, \"TN:\", TN, \"FP:\", FP, \"FN:\", FN)"
   ]
  },
  {
   "cell_type": "code",
   "execution_count": 5,
   "id": "f584080e-4ea0-4b79-b1d8-12742432f440",
   "metadata": {},
   "outputs": [
    {
     "name": "stdout",
     "output_type": "stream",
     "text": [
      "Accuracy: 0.7\n",
      "Precision: 0.75\n",
      "Recall: 0.6\n",
      "F1 Score: 0.6666666666666665\n"
     ]
    }
   ],
   "source": [
    "# Calculate metrics\n",
    "accuracy = (TP + TN) / len(actual)\n",
    "precision = TP / (TP + FP) if (TP + FP) > 0 else 0\n",
    "recall = TP / (TP + FN) if (TP + FN) > 0 else 0\n",
    "f1 = 2 * (precision * recall) / (precision + recall) if (precision + recall) > 0 else 0\n",
    "\n",
    "# Print the results\n",
    "print(\"Accuracy:\", accuracy)\n",
    "print(\"Precision:\", precision)\n",
    "print(\"Recall:\", recall)\n",
    "print(\"F1 Score:\", f1)"
   ]
  },
  {
   "cell_type": "code",
   "execution_count": 9,
   "id": "be8f7ead-015a-4a35-833d-4ba5f43f1145",
   "metadata": {},
   "outputs": [
    {
     "name": "stdout",
     "output_type": "stream",
     "text": [
      "\n",
      "Evaluation Metrics:\n",
      "Accuracy: 0.7\n",
      "Precision: 0.75\n",
      "Recall: 0.6\n",
      "F1 Score: 0.6666666666666666\n"
     ]
    }
   ],
   "source": [
    "# Calculate evaluation metrics\n",
    "accuracy = accuracy_score(actual, predicted )\n",
    "precision = precision_score(actual, predicted )\n",
    "recall = recall_score(actual, predicted )\n",
    "f1 = f1_score(actual, predicted )\n",
    "\n",
    "# Print the results\n",
    "print(\"\\nEvaluation Metrics:\")\n",
    "print(\"Accuracy:\", accuracy)\n",
    "print(\"Precision:\", precision)\n",
    "print(\"Recall:\", recall)\n",
    "print(\"F1 Score:\", f1)\n"
   ]
  },
  {
   "cell_type": "code",
   "execution_count": 10,
   "id": "ccfc4791-437d-4845-93a8-e057d66ec53e",
   "metadata": {},
   "outputs": [
    {
     "name": "stdout",
     "output_type": "stream",
     "text": [
      "\n",
      "Confusion Matrix:\n",
      " [[4 1]\n",
      " [2 3]]\n"
     ]
    }
   ],
   "source": [
    "# Optional: Print the confusion matrix\n",
    "conf_matrix = confusion_matrix(actual, predicted )\n",
    "print(\"\\nConfusion Matrix:\\n\", conf_matrix)"
   ]
  }
 ],
 "metadata": {
  "kernelspec": {
   "display_name": "Python 3 (ipykernel)",
   "language": "python",
   "name": "python3"
  },
  "language_info": {
   "codemirror_mode": {
    "name": "ipython",
    "version": 3
   },
   "file_extension": ".py",
   "mimetype": "text/x-python",
   "name": "python",
   "nbconvert_exporter": "python",
   "pygments_lexer": "ipython3",
   "version": "3.13.0"
  }
 },
 "nbformat": 4,
 "nbformat_minor": 5
}
