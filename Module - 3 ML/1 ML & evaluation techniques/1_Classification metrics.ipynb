{
 "cells": [
  {
   "cell_type": "code",
   "execution_count": 2,
   "id": "b9eb74b9-8391-4e71-a4c0-f07412d75c88",
   "metadata": {},
   "outputs": [],
   "source": [
    "# Example data\n",
    "actual = [3, -0.5, 2, 7]  # Actual values\n",
    "predicted = [2.5, 0.0, 2, 8]  # Predicted values"
   ]
  },
  {
   "cell_type": "code",
   "execution_count": 4,
   "id": "a2926c07-cbeb-489d-aad2-4754add2b1b3",
   "metadata": {},
   "outputs": [
    {
     "name": "stdout",
     "output_type": "stream",
     "text": [
      "Mean Absolute Error (MAE): 0.5\n",
      "Mean Squared Error (MSE): 0.375\n",
      "R-squared (R²): 0.9486081370449679\n"
     ]
    }
   ],
   "source": [
    "import numpy as np\n",
    "\n",
    "# Example data\n",
    "actual = np.array([3, -0.5, 2, 7])  # Actual values\n",
    "predicted = np.array([2.5, 0.0, 2, 8])  # Predicted values\n",
    "\n",
    "# Calculate Mean Absolute Error (MAE)\n",
    "mae = np.mean(np.abs(actual - predicted))\n",
    "\n",
    "# Calculate Mean Squared Error (MSE)\n",
    "mse = np.mean((actual - predicted) ** 2)\n",
    "\n",
    "# Calculate R-squared (R²)\n",
    "ss_res = np.sum((actual - predicted) ** 2)  # Residual sum of squares\n",
    "ss_tot = np.sum((actual - np.mean(actual)) ** 2)  # Total sum of squares\n",
    "r_squared = 1 - (ss_res / ss_tot)\n",
    "\n",
    "# Print the results\n",
    "print(\"Mean Absolute Error (MAE):\", mae)\n",
    "print(\"Mean Squared Error (MSE):\", mse)\n",
    "print(\"R-squared (R²):\", r_squared)"
   ]
  },
  {
   "cell_type": "code",
   "execution_count": 5,
   "id": "52702f59-dcb1-4a71-a5ba-299a5d1559c2",
   "metadata": {},
   "outputs": [
    {
     "name": "stdout",
     "output_type": "stream",
     "text": [
      "Mean Absolute Error (MAE): 0.5\n",
      "Mean Squared Error (MSE): 0.375\n",
      "R-squared (R²): 0.9486081370449679\n"
     ]
    }
   ],
   "source": [
    "import numpy as np\n",
    "from sklearn.metrics import mean_absolute_error, mean_squared_error, r2_score\n",
    "\n",
    "# Example data\n",
    "actual = np.array([3, -0.5, 2, 7])  # Actual values\n",
    "predicted = np.array([2.5, 0.0, 2, 8])  # Predicted values\n",
    "\n",
    "# Calculate Mean Absolute Error (MAE)\n",
    "mae = mean_absolute_error(actual, predicted)\n",
    "\n",
    "# Calculate Mean Squared Error (MSE)\n",
    "mse = mean_squared_error(actual, predicted)\n",
    "\n",
    "# Calculate R-squared (R²)\n",
    "r_squared = r2_score(actual, predicted)\n",
    "\n",
    "# Print the results\n",
    "print(\"Mean Absolute Error (MAE):\", mae)\n",
    "print(\"Mean Squared Error (MSE):\", mse)\n",
    "print(\"R-squared (R²):\", r_squared)"
   ]
  }
 ],
 "metadata": {
  "kernelspec": {
   "display_name": "Python 3 (ipykernel)",
   "language": "python",
   "name": "python3"
  },
  "language_info": {
   "codemirror_mode": {
    "name": "ipython",
    "version": 3
   },
   "file_extension": ".py",
   "mimetype": "text/x-python",
   "name": "python",
   "nbconvert_exporter": "python",
   "pygments_lexer": "ipython3",
   "version": "3.13.0"
  }
 },
 "nbformat": 4,
 "nbformat_minor": 5
}
